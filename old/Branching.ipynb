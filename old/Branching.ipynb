{
 "cells": [
  {
   "cell_type": "code",
   "execution_count": 26,
   "metadata": {
    "collapsed": false
   },
   "outputs": [
    {
     "ename": "ValueError",
     "evalue": "Rule not found",
     "output_type": "error",
     "traceback": [
      "\u001b[0;31m---------------------------------------------------------------------------\u001b[0m",
      "\u001b[0;31mValueError\u001b[0m                                Traceback (most recent call last)",
      "\u001b[0;32m<ipython-input-26-4f7a7effcbbb>\u001b[0m in \u001b[0;36m<module>\u001b[0;34m()\u001b[0m\n\u001b[0;32m----> 1\u001b[0;31m \u001b[0mb\u001b[0m \u001b[0;34m=\u001b[0m \u001b[0mbranching_rule\u001b[0m\u001b[0;34m(\u001b[0m\u001b[0;34m\"E7\"\u001b[0m\u001b[0;34m,\u001b[0m\u001b[0;34m\"A1xG2\"\u001b[0m\u001b[0;34m,\u001b[0m\u001b[0;34m\"symmetric\"\u001b[0m\u001b[0;34m)\u001b[0m\u001b[0;34m\u001b[0m\u001b[0m\n\u001b[0m\u001b[1;32m      2\u001b[0m \u001b[0mb\u001b[0m\u001b[0;34m.\u001b[0m\u001b[0mdescribe\u001b[0m\u001b[0;34m(\u001b[0m\u001b[0;34m)\u001b[0m\u001b[0;34m\u001b[0m\u001b[0m\n",
      "\u001b[0;32m/home/carnd/Downloads/SageMath/local/lib/python2.7/site-packages/sage/combinat/root_system/branching_rules.pyc\u001b[0m in \u001b[0;36mbranching_rule\u001b[0;34m(Rtype, Stype, rule)\u001b[0m\n\u001b[1;32m   1533\u001b[0m             \u001b[0;32mreturn\u001b[0m \u001b[0mBranchingRule\u001b[0m\u001b[0;34m(\u001b[0m\u001b[0mRtype\u001b[0m\u001b[0;34m,\u001b[0m \u001b[0mStype\u001b[0m\u001b[0;34m,\u001b[0m \u001b[0mf\u001b[0m\u001b[0;34m,\u001b[0m \u001b[0;34m\"symmetric\"\u001b[0m\u001b[0;34m)\u001b[0m\u001b[0;34m\u001b[0m\u001b[0m\n\u001b[1;32m   1534\u001b[0m         \u001b[0;32melse\u001b[0m\u001b[0;34m:\u001b[0m\u001b[0;34m\u001b[0m\u001b[0m\n\u001b[0;32m-> 1535\u001b[0;31m             \u001b[0;32mraise\u001b[0m \u001b[0mValueError\u001b[0m\u001b[0;34m(\u001b[0m\u001b[0;34m\"Rule not found\"\u001b[0m\u001b[0;34m)\u001b[0m\u001b[0;34m\u001b[0m\u001b[0m\n\u001b[0m\u001b[1;32m   1536\u001b[0m     \u001b[0;32melif\u001b[0m \u001b[0mrule\u001b[0m \u001b[0;34m==\u001b[0m \u001b[0;34m\"extended\"\u001b[0m \u001b[0;32mor\u001b[0m \u001b[0mrule\u001b[0m \u001b[0;34m==\u001b[0m \u001b[0;34m\"orthogonal_sum\"\u001b[0m\u001b[0;34m:\u001b[0m\u001b[0;34m\u001b[0m\u001b[0m\n\u001b[1;32m   1537\u001b[0m         \u001b[0;32mif\u001b[0m \u001b[0mrule\u001b[0m \u001b[0;34m==\u001b[0m \u001b[0;34m\"extended\"\u001b[0m \u001b[0;32mand\u001b[0m \u001b[0;32mnot\u001b[0m \u001b[0ms\u001b[0m \u001b[0;34m==\u001b[0m \u001b[0mr\u001b[0m\u001b[0;34m:\u001b[0m\u001b[0;34m\u001b[0m\u001b[0m\n",
      "\u001b[0;31mValueError\u001b[0m: Rule not found"
     ]
    }
   ],
   "source": [
    "b = branching_rule(\"E7\",\"A1xG2\",\"miscellaneous\")\n",
    "b.describe()"
   ]
  },
  {
   "cell_type": "code",
   "execution_count": 35,
   "metadata": {
    "collapsed": false
   },
   "outputs": [
    {
     "ename": "SyntaxError",
     "evalue": "unexpected EOF while parsing (<string>, line 1)",
     "output_type": "error",
     "traceback": [
      "\u001b[0;36m  File \u001b[0;32m\"<string>\"\u001b[0;36m, line \u001b[0;32m1\u001b[0m\n\u001b[0;31m    1XG2\u001b[0m\n\u001b[0m       ^\u001b[0m\n\u001b[0;31mSyntaxError\u001b[0m\u001b[0;31m:\u001b[0m unexpected EOF while parsing\n"
     ]
    }
   ],
   "source": [
    "E7=WeylCharacterRing(\"E7\",style=\"coroots\")\n",
    "A1XG2 = WeylCharacterRing(\"A1XG2\",style=\"coroots\")\n",
    "E7(1,0,0,0,0,0,0).branch(A1XG2,rule=\"miscellaneous\")"
   ]
  },
  {
   "cell_type": "code",
   "execution_count": 24,
   "metadata": {
    "collapsed": false
   },
   "outputs": [
    {
     "name": "stdout",
     "output_type": "stream",
     "text": [
      "adjoint degree:\n",
      "133\n",
      "\n",
      "[E7(1,0,0,0,0,0,0), E7(0,1,0,0,0,0,0), E7(0,0,1,0,0,0,0), E7(0,0,0,1,0,0,0), E7(0,0,0,0,1,0,0), E7(0,0,0,0,0,1,0), E7(0,0,0,0,0,0,1)]\n"
     ]
    }
   ],
   "source": [
    "E7 = WeylCharacterRing(\"E7\", style=\"coroots\")\n",
    "print 'adjoint degree:'\n",
    "ad = E7.adjoint_representation()\n",
    "print ad.degree()\n",
    "reps = [E7(v) for v in E7.fundamental_weights()]\n",
    "print ''\n",
    "print reps\n"
   ]
  },
  {
   "cell_type": "code",
   "execution_count": 20,
   "metadata": {
    "collapsed": false
   },
   "outputs": [
    {
     "data": {
      "text/plain": [
       "[A1(2) + A1(10) + A1(14) + A1(18) + A1(22) + A1(26) + A1(34),\n",
       " A1(1) + A1(5) + 2*A1(7) + 2*A1(9) + 2*A1(11) + 2*A1(13) + 2*A1(15) + 3*A1(17) + 3*A1(19) + 2*A1(21) + 2*A1(23) + 3*A1(25) + 2*A1(27) + 2*A1(29) + 2*A1(31) + A1(33) + 2*A1(35) + A1(37) + A1(39) + A1(41) + A1(43) + A1(49),\n",
       " 6*A1(2) + 4*A1(4) + 10*A1(6) + 9*A1(8) + 14*A1(10) + 13*A1(12) + 17*A1(14) + 15*A1(16) + 19*A1(18) + 16*A1(20) + 19*A1(22) + 17*A1(24) + 19*A1(26) + 15*A1(28) + 17*A1(30) + 14*A1(32) + 15*A1(34) + 12*A1(36) + 12*A1(38) + 9*A1(40) + 10*A1(42) + 7*A1(44) + 7*A1(46) + 5*A1(48) + 5*A1(50) + 3*A1(52) + 3*A1(54) + 2*A1(56) + 2*A1(58) + A1(60) + A1(62) + A1(66),\n",
       " 47*A1(0) + 78*A1(2) + 164*A1(4) + 197*A1(6) + 278*A1(8) + 299*A1(10) + 375*A1(12) + 387*A1(14) + 447*A1(16) + 453*A1(18) + 499*A1(20) + 489*A1(22) + 527*A1(24) + 506*A1(26) + 525*A1(28) + 499*A1(30) + 507*A1(32) + 469*A1(34) + 470*A1(36) + 427*A1(38) + 418*A1(40) + 376*A1(42) + 361*A1(44) + 315*A1(46) + 302*A1(48) + 258*A1(50) + 240*A1(52) + 203*A1(54) + 187*A1(56) + 152*A1(58) + 140*A1(60) + 110*A1(62) + 99*A1(64) + 77*A1(66) + 68*A1(68) + 49*A1(70) + 45*A1(72) + 31*A1(74) + 27*A1(76) + 18*A1(78) + 16*A1(80) + 9*A1(82) + 9*A1(84) + 4*A1(86) + 4*A1(88) + 2*A1(90) + 2*A1(92) + A1(96),\n",
       " 6*A1(1) + 14*A1(3) + 20*A1(5) + 25*A1(7) + 32*A1(9) + 36*A1(11) + 39*A1(13) + 45*A1(15) + 47*A1(17) + 48*A1(19) + 51*A1(21) + 50*A1(23) + 50*A1(25) + 50*A1(27) + 48*A1(29) + 45*A1(31) + 44*A1(33) + 41*A1(35) + 37*A1(37) + 35*A1(39) + 31*A1(41) + 27*A1(43) + 25*A1(45) + 21*A1(47) + 18*A1(49) + 16*A1(51) + 13*A1(53) + 10*A1(55) + 9*A1(57) + 7*A1(59) + 5*A1(61) + 4*A1(63) + 3*A1(65) + 2*A1(67) + 2*A1(69) + A1(71) + A1(75),\n",
       " 2*A1(0) + 3*A1(4) + 4*A1(8) + 2*A1(10) + 5*A1(12) + 2*A1(14) + 5*A1(16) + 3*A1(18) + 5*A1(20) + 3*A1(22) + 5*A1(24) + 3*A1(26) + 4*A1(28) + 2*A1(30) + 4*A1(32) + 2*A1(34) + 3*A1(36) + A1(38) + 2*A1(40) + A1(42) + 2*A1(44) + A1(48) + A1(52),\n",
       " A1(9) + A1(17) + A1(27)]"
      ]
     },
     "execution_count": 20,
     "metadata": {},
     "output_type": "execute_result"
    }
   ],
   "source": [
    "A1xG2 = WeylCharacterRing(\"A1xG2\", style=\"coroots\")\n",
    "[pi.branch(A1, rule=\"iii\") for pi in reps]"
   ]
  },
  {
   "cell_type": "code",
   "execution_count": 21,
   "metadata": {
    "collapsed": false
   },
   "outputs": [
    {
     "data": {
      "text/plain": [
       "[A1xG2(2,0,0) + A1xG2(2,2,0) + A1xG2(4,1,0) + A1xG2(0,0,1),\n",
       " A1xG2(1,0,0) + A1xG2(1,1,0) + A1xG2(1,0,1) + A1xG2(1,2,0) + A1xG2(1,3,0) + A1xG2(3,1,0) + A1xG2(3,0,1) + A1xG2(3,2,0) + A1xG2(3,1,1) + A1xG2(5,1,0) + A1xG2(5,2,0) + A1xG2(7,0,0),\n",
       " 2*A1xG2(2,0,0) + 3*A1xG2(2,1,0) + 3*A1xG2(2,0,1) + 5*A1xG2(2,2,0) + 3*A1xG2(2,1,1) + 2*A1xG2(2,3,0) + A1xG2(2,0,2) + A1xG2(2,2,1) + A1xG2(2,4,0) + 4*A1xG2(4,1,0) + 3*A1xG2(4,0,1) + 3*A1xG2(4,2,0) + 3*A1xG2(4,1,1) + 2*A1xG2(4,3,0) + A1xG2(4,2,1) + A1xG2(6,0,0) + 2*A1xG2(6,1,0) + A1xG2(6,0,1) + 2*A1xG2(6,2,0) + A1xG2(6,1,1) + A1xG2(6,3,0) + A1xG2(8,1,0) + A1xG2(8,0,1) + 2*A1xG2(0,1,0) + 2*A1xG2(0,0,1) + A1xG2(0,2,0) + A1xG2(0,1,1) + 2*A1xG2(0,3,0) + A1xG2(0,2,1),\n",
       " 7*A1xG2(0,0,0) + 3*A1xG2(2,0,0) + 26*A1xG2(2,1,0) + 28*A1xG2(2,0,1) + 32*A1xG2(2,2,0) + 38*A1xG2(2,1,1) + 35*A1xG2(2,3,0) + 11*A1xG2(2,0,2) + 29*A1xG2(2,2,1) + 13*A1xG2(2,4,0) + 10*A1xG2(2,1,2) + 10*A1xG2(2,3,1) + 5*A1xG2(2,5,0) + 2*A1xG2(2,0,3) + A1xG2(2,2,2) + 2*A1xG2(2,4,1) + 8*A1xG2(4,0,0) + 24*A1xG2(4,1,0) + 24*A1xG2(4,0,1) + 42*A1xG2(4,2,0) + 40*A1xG2(4,1,1) + 30*A1xG2(4,3,0) + 16*A1xG2(4,0,2) + 26*A1xG2(4,2,1) + 16*A1xG2(4,4,0) + 8*A1xG2(4,1,2) + 9*A1xG2(4,3,1) + 3*A1xG2(4,5,0) + 2*A1xG2(4,2,2) + A1xG2(4,4,1) + 4*A1xG2(6,0,0) + 21*A1xG2(6,1,0) + 20*A1xG2(6,0,1) + 24*A1xG2(6,2,0) + 25*A1xG2(6,1,1) + 23*A1xG2(6,3,0) + 6*A1xG2(6,0,2) + 17*A1xG2(6,2,1) + 7*A1xG2(6,4,0) + 5*A1xG2(6,1,2) + 4*A1xG2(6,3,1) + 2*A1xG2(6,5,0) + A1xG2(6,0,3) + 4*A1xG2(8,0,0) + 9*A1xG2(8,1,0) + 8*A1xG2(8,0,1) + 14*A1xG2(8,2,0) + 11*A1xG2(8,1,1) + 8*A1xG2(8,3,0) + 4*A1xG2(8,0,2) + 5*A1xG2(8,2,1) + 3*A1xG2(8,4,0) + A1xG2(8,1,2) + A1xG2(8,3,1) + 4*A1xG2(10,1,0) + 4*A1xG2(10,0,1) + 3*A1xG2(10,2,0) + 3*A1xG2(10,1,1) + 2*A1xG2(10,3,0) + A1xG2(10,2,1) + A1xG2(12,0,0) + A1xG2(12,1,0) + A1xG2(12,2,0) + 8*A1xG2(0,1,0) + 6*A1xG2(0,0,1) + 20*A1xG2(0,2,0) + 15*A1xG2(0,1,1) + 12*A1xG2(0,3,0) + 9*A1xG2(0,0,2) + 10*A1xG2(0,2,1) + 10*A1xG2(0,4,0) + 4*A1xG2(0,1,2) + 4*A1xG2(0,3,1) + A1xG2(0,5,0) + 2*A1xG2(0,2,2) + A1xG2(0,6,0),\n",
       " A1xG2(1,0,0) + 4*A1xG2(1,1,0) + 5*A1xG2(1,0,1) + 7*A1xG2(1,2,0) + 6*A1xG2(1,1,1) + 4*A1xG2(1,3,0) + 2*A1xG2(1,0,2) + 3*A1xG2(1,2,1) + A1xG2(1,4,0) + A1xG2(1,3,1) + 3*A1xG2(3,0,0) + 7*A1xG2(3,1,0) + 5*A1xG2(3,0,1) + 9*A1xG2(3,2,0) + 7*A1xG2(3,1,1) + 6*A1xG2(3,3,0) + 2*A1xG2(3,0,2) + 3*A1xG2(3,2,1) + 2*A1xG2(3,4,0) + A1xG2(3,1,2) + 2*A1xG2(5,0,0) + 5*A1xG2(5,1,0) + 4*A1xG2(5,0,1) + 7*A1xG2(5,2,0) + 5*A1xG2(5,1,1) + 3*A1xG2(5,3,0) + A1xG2(5,0,2) + 2*A1xG2(5,2,1) + A1xG2(5,4,0) + A1xG2(7,0,0) + 2*A1xG2(7,1,0) + 2*A1xG2(7,0,1) + 3*A1xG2(7,2,0) + 2*A1xG2(7,1,1) + A1xG2(7,3,0) + A1xG2(7,0,2) + A1xG2(9,0,0) + A1xG2(9,1,0) + A1xG2(9,2,0),\n",
       " A1xG2(0,0,0) + 2*A1xG2(2,1,0) + 2*A1xG2(2,0,1) + A1xG2(2,2,0) + A1xG2(2,1,1) + A1xG2(2,3,0) + A1xG2(4,0,0) + A1xG2(4,1,0) + 2*A1xG2(4,2,0) + A1xG2(4,1,1) + A1xG2(6,1,0) + A1xG2(6,0,1) + 2*A1xG2(0,2,0) + A1xG2(0,0,2),\n",
       " A1xG2(1,0,1) + A1xG2(3,1,0)]"
      ]
     },
     "execution_count": 21,
     "metadata": {},
     "output_type": "execute_result"
    }
   ],
   "source": [
    "[pi.branch(A1xG2, rule=\"miscellaneous\") for pi in reps]"
   ]
  }
 ],
 "metadata": {
  "anaconda-cloud": {},
  "kernelspec": {
   "display_name": "SageMath 8.2",
   "language": "",
   "name": "sagemath"
  },
  "language_info": {
   "codemirror_mode": {
    "name": "ipython",
    "version": 2
   },
   "file_extension": ".py",
   "mimetype": "text/x-python",
   "name": "python",
   "nbconvert_exporter": "python",
   "pygments_lexer": "ipython2",
   "version": "2.7.14"
  }
 },
 "nbformat": 4,
 "nbformat_minor": 1
}
