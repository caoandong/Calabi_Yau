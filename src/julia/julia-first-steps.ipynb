{
 "cells": [
  {
   "cell_type": "markdown",
   "metadata": {
    "collapsed": false
   },
   "source": [
    "# Julia – a modern approach to scientific computing\n",
    "\n",
    "![](julia-logo-325-by-225.png)\n",
    "\n",
    "https://www.julialang.org\n",
    "\n"
   ]
  },
  {
   "cell_type": "markdown",
   "metadata": {
    "collapsed": false
   },
   "source": [
    "Evaluate the following cell by selecting it and then hit Shift+Return. Watch the top right status indicator of the Jupyter Notebook kernel to have started up Julia. The result will appear below."
   ]
  },
  {
   "cell_type": "code",
   "execution_count": 1,
   "metadata": {
    "collapsed": false
   },
   "outputs": [
    {
     "data": {
      "text/plain": [
       "v\"1.0.3\""
      ]
     },
     "execution_count": 1,
     "metadata": {
     },
     "output_type": "execute_result"
    }
   ],
   "source": [
    "VERSION"
   ]
  },
  {
   "cell_type": "markdown",
   "metadata": {
    "collapsed": false
   },
   "source": [
    "Vectors and matrices have a simple syntax. Notice, that the `'` means to transpose this vector."
   ]
  },
  {
   "cell_type": "code",
   "execution_count": 4,
   "metadata": {
    "collapsed": false
   },
   "outputs": [
    {
     "name": "stdout",
     "output_type": "stream",
     "text": [
      "\u001b[32m\u001b[1m  Building\u001b[22m\u001b[39m "
     ]
    },
    {
     "name": "stdout",
     "output_type": "stream",
     "text": [
      "Ipopt → `~/.julia/packages/Ipopt/OLtKb/deps/build.log`\n"
     ]
    },
    {
     "name": "stderr",
     "output_type": "stream",
     "text": [
      "┌ Info: Precompiling Ipopt [b6b21f68-93f8-5de0-b562-5493be1d77c9]\n",
      "└ @ Base loading.jl:1192\n"
     ]
    }
   ],
   "source": [
    "import Pkg\n",
    "Pkg.build(\"Ipopt\")\n",
    "using Ipopt"
   ]
  },
  {
   "cell_type": "code",
   "execution_count": 4,
   "metadata": {
    "collapsed": false
   },
   "outputs": [
    {
     "data": {
      "text/plain": [
       "3×3 Array{Float64,2}:\n",
       "  1.0  9.0   1.0\n",
       "  0.0  1.0   0.0\n",
       " -1.1  0.0  -1.0"
      ]
     },
     "execution_count": 4,
     "metadata": {
     },
     "output_type": "execute_result"
    }
   ],
   "source": [
    "A = [  1   9   1\n",
    "       0   1   0\n",
    "    -1.1   0  -1]"
   ]
  },
  {
   "cell_type": "markdown",
   "metadata": {
    "collapsed": false
   },
   "source": [
    "… and here we solve this as a linear system of equations: $A \\cdot x = b$"
   ]
  },
  {
   "cell_type": "code",
   "execution_count": 4,
   "metadata": {
    "collapsed": false
   },
   "outputs": [
    {
     "data": {
      "text/plain": [
       "3×1 Array{Float64,2}:\n",
       "  476.0\n",
       "    4.4\n",
       " -514.6"
      ]
     },
     "execution_count": 4,
     "metadata": {
     },
     "output_type": "execute_result"
    }
   ],
   "source": [
    "x = A \\ b"
   ]
  },
  {
   "cell_type": "code",
   "execution_count": 5,
   "metadata": {
    "collapsed": false
   },
   "outputs": [
    {
     "data": {
      "text/plain": [
       "3×1 Array{Float64,2}:\n",
       "  1.0\n",
       "  4.4\n",
       " -9.0"
      ]
     },
     "execution_count": 5,
     "metadata": {
     },
     "output_type": "execute_result"
    }
   ],
   "source": [
    "A * x"
   ]
  },
  {
   "cell_type": "markdown",
   "metadata": {
    "collapsed": false
   },
   "source": [
    "## Batman Curve\n",
    "\n",
    "Transcribed from _Julia: A Fast Language for Numerical Computing_,\n",
    "by Alan Edelman,  \n",
    "[SIAM News, Volume 49 | Number 02 | March 2016](https://sinews.siam.org/Details-Page/julia-a-fast-language-for-numerical-computing-1)\n",
    "\n",
    "![](batman-demo-300.png)"
   ]
  },
  {
   "cell_type": "code",
   "execution_count": 0,
   "metadata": {
    "collapsed": false
   },
   "outputs": [
   ],
   "source": [
    "# Note: the first time in a project, it can take over a minute to precompile PyPlot\n",
    "using PyPlot\n",
    "function batman()\n",
    "\n",
    "    # bat functions: semicircle, ellipse, shoulders, bottom, cowl\n",
    "    # harmless Compat.UTF8String warnings from julia kernel on first run\n",
    "    σ(x) = sqrt.(1-x.^2)\n",
    "    e(x) = 3σ(x/7)\n",
    "    s(x) = 4.2 - .5x - 2.8σ(.5x-.5)\n",
    "    b(x) = σ(abs.(2-x)-1)-x.^2/11 + .5x - 3\n",
    "    c(x) = [1.7, 1.7, 2.6, .9]\n",
    "\n",
    "    # plot symmetrically across y-axis\n",
    "    p(x,f) = plot(-x,f(x), color=\"black\") , plot(x,f(x), color=\"black\")\n",
    "    p((3:.1:7),e);p(4:.1:7,t->-e(t))   # ellipse\n",
    "    p(1:.1:3,s);p(0:.1:4,b)            # shoulders and bottom\n",
    "    p([0,.5,.8,1],c)\n",
    "end\n",
    "batman();"
   ]
  },
  {
   "cell_type": "raw",
   "metadata": {
    "collapsed": false
   },
   "source": [
   ]
  },
  {
   "cell_type": "code",
   "execution_count": 7,
   "metadata": {
    "collapsed": false
   },
   "outputs": [
    {
     "data": {
      "text/latex": [
       "$$ \\begin{alignat*}{1}\\min\\quad & subexpression_{1}\\\\\n",
       "\\text{Subject to} \\quad & b_{1} - 10.0 \\leq 0\\\\\n",
       " & subexpression_{1} - 0.125 \\geq 0\\\\\n",
       " & subexpression_{1} - 1.0 \\leq 0\\\\\n",
       " & b_{i} \\geq 0 \\quad\\forall i \\in \\{1,2,3\\}\\\\\n",
       "subexpression_{1} = \\quad &1.0 / ((b_{1} - b_{2}) * b_{1} * ((b_{2} + b_{3}) - 4.0) * b_{3}) - 1.0 / ((b_{1} - b_{2}) * ((b_{1} + b_{3}) - 4.0) * b_{2} * b_{3})\\\\\n",
       "\\end{alignat*}\n",
       " $$"
      ]
     },
     "execution_count": 7,
     "metadata": {
     },
     "output_type": "execute_result"
    }
   ],
   "source": [
    "using JuMP\n",
    "using Ipopt\n",
    "\n",
    "mod = Model(solver = IpoptSolver())\n",
    "\n",
    "# Parameters\n",
    "vol_min = 1.0/8\n",
    "sol_max = 10.0\n",
    "num_iter = 10\n",
    "\n",
    "@variable(mod, b[1:3] >= 0.0)\n",
    "\n",
    "# Objective function\n",
    "@NLexpression(mod, series, 1/((b[1] - b[2])*b[1]*(b[2] + b[3] - 4)*b[3]) - 1/((b[1] - b[2])*(b[1] + b[3] - 4)*b[2]*b[3]))\n",
    "# series = 1/((b[1][1] - b[2][1])*b[1][1]*(b[2][1] + b[3][1] - 4)*b[3][1]) - 1/((b[1][1] - b[2][1])*(b[1][1] + b[3][1] - 4)*b[2][1]*b[3][1])\n",
    "\n",
    "@NLconstraint(mod, b[1:3][1] <= sol_max)\n",
    "@NLconstraint(mod, series >= vol_min)\n",
    "@NLconstraint(mod, series <= 1.0)\n",
    "@NLobjective(mod, Min, series)\n",
    "\n",
    "mod"
   ]
  },
  {
   "cell_type": "code",
   "execution_count": 8,
   "metadata": {
    "collapsed": false
   },
   "outputs": [
    {
     "name": "stdout",
     "output_type": "stream",
     "text": [
      "Solving...\n"
     ]
    },
    {
     "name": "stdout",
     "output_type": "stream",
     "text": [
      "\n",
      "******************************************************************************\n",
      "This program contains Ipopt, a library for large-scale nonlinear optimization.\n",
      " Ipopt is released as open source code under the Eclipse Public License (EPL).\n",
      "         For more information visit http://projects.coin-or.org/Ipopt\n",
      "******************************************************************************\n",
      "\n",
      "This is Ipopt version 3.12.10, running with linear solver mumps.\n",
      "NOTE: Other linear solvers might be more efficient (see Ipopt documentation).\n",
      "\n",
      "Number of nonzeros in equality constraint Jacobian...:        0\n",
      "Number of nonzeros in inequality constraint Jacobian.:        7\n",
      "Number of nonzeros in Lagrangian Hessian.............:       18\n",
      "\n",
      "The inequality constraints contain an invalid number\n",
      "\n",
      "Number of Iterations....: 0\n",
      "\n",
      "Number of objective function evaluations             = 0\n",
      "Number of objective gradient evaluations             = 0\n",
      "Number of equality constraint evaluations            = 0\n",
      "Number of inequality constraint evaluations          = 1\n",
      "Number of equality constraint Jacobian evaluations   = 0\n",
      "Number of inequality constraint Jacobian evaluations = 0\n",
      "Number of Lagrangian Hessian evaluations             = 0\n",
      "Total CPU secs in IPOPT (w/o function evaluations)   =      0.180\n",
      "Total CPU secs in NLP function evaluations           =      0.003\n",
      "\n",
      "EXIT: Invalid number in NLP function or derivative detected.\n",
      "Solver status: Error\n"
     ]
    },
    {
     "name": "stderr",
     "output_type": "stream",
     "text": [
      "┌ Warning: Ipopt finished with status Invalid_Number_Detected\n",
      "└ @ Ipopt /home/user/.julia/packages/Ipopt/OLtKb/src/MPB_wrapper.jl:178\n",
      "┌ Warning: Not solved to optimality, status: Error\n",
      "└ @ JuMP /ext/julia/julia/depot/packages/JuMP/PbnIJ/src/nlp.jl:1283\n"
     ]
    },
    {
     "name": "stdout",
     "output_type": "stream",
     "text": [
      "Max height: 0"
     ]
    },
    {
     "name": "stderr",
     "output_type": "stream",
     "text": [
      "┌ Warning: `getObjectiveValue` is deprecated, use `getobjectivevalue` instead.\n",
      "│   caller = top-level scope at In[8]:7\n",
      "└ @ Core In[8]:7\n"
     ]
    },
    {
     "name": "stdout",
     "output_type": "stream",
     "text": [
      ".0\n"
     ]
    }
   ],
   "source": [
    "# Solve for the control and state\n",
    "println(\"Solving...\")\n",
    "status = solve(mod)\n",
    "\n",
    "# Display results\n",
    "println(\"Solver status: \", status)\n",
    "println(\"Max height: \", getObjectiveValue(mod))"
   ]
  }
 ],
 "metadata": {
  "kernelspec": {
   "display_name": "Julia 1.x",
   "language": "julia",
   "name": "julia-1"
  },
  "language_info": {
   "file_extension": ".jl",
   "mimetype": "application/julia",
   "name": "julia",
   "version": "1.0.3"
  }
 },
 "nbformat": 4,
 "nbformat_minor": 0
}