{
 "cells": [
  {
   "cell_type": "code",
   "execution_count": 1,
   "metadata": {
    "collapsed": false
   },
   "outputs": [
    {
     "name": "stdout",
     "output_type": "stream",
     "text": [
      "Done.\n"
     ]
    }
   ],
   "source": [
    "import math\n",
    "import numpy as np\n",
    "import scipy\n",
    "import scipy.optimize\n",
    "import matplotlib.pyplot as plt\n",
    "import csv\n",
    "#from scipy.optimize import minimize\n",
    "#import tensorflow as tf\n",
    "\n",
    "PointConfiguration.set_engine('internal')\n",
    "#PointConfiguration.set_engine('topcom')\n",
    "print 'Done.'"
   ]
  },
  {
   "cell_type": "code",
   "execution_count": 41,
   "metadata": {
    "collapsed": false
   },
   "outputs": [
    {
     "name": "stdout",
     "output_type": "stream",
     "text": [
      "p:  [1, 1, 1]\n",
      "corner:  [[0, 0, 0], [0, 0, 1], [0, 1, 0], [0, 1, 1], [1, 0, 0], [1, 0, 1], [1, 1, 0]]\n",
      "adjacent points:  [[0, 0, 1], [1, 0, 1], [1, 0, 0], [1, 1, 0], [0, 1, 1]]\n",
      "patch:  [[[0, 0, 1], [1, 0, 1], [1, 0, 0], [1, 1, 0]], [[0, 0, 1], [1, 0, 1], [1, 1, 0], [0, 1, 1]]]\n",
      "number of tetrahedron:  5\n",
      "[[[0, 0, 0], [1, 0, 0], [1, 1, 0], [0, 0, 1]], [[0, 0, 0], [1, 1, 0], [0, 1, 0], [0, 0, 1]], [[0, 0, 1], [0, 1, 1], [0, 1, 0], [1, 1, 0]], [[0, 0, 1], [1, 0, 1], [1, 0, 0], [1, 1, 0]], [[0, 0, 1], [1, 0, 1], [1, 1, 0], [0, 1, 1]]]\n"
     ]
    }
   ],
   "source": [
    "def idx_to_pts(triang, pts):\n",
    "    # Input a list of lists of indicies\n",
    "    # Output a list of lists of points\n",
    "    triang_new = []\n",
    "    for i in range(len(triang)):\n",
    "        triang_new.append([pts[j] for j in triang[i]])\n",
    "    return triang_new\n",
    "\n",
    "def Triang_cube(size):\n",
    "    # Initalize the cube\n",
    "    cube_1 = [[0,0,0],[1,0,0],[1,1,0],[0,1,0],[0,0,1],[1,0,1],[1,1,1],[0,1,1]]\n",
    "    corner = (size*np.array(cube_1)).tolist()\n",
    "    # Sample triangulation of a 1x1x1 cube:\n",
    "    triang_cube_1_1 = [[[0,0,0],[1,0,0],[1,1,0],[0,0,1]]]\n",
    "    triang_cube_1_2 = [[[0,0,1],[1,0,1],[1,0,0],[1,1,1]]]\n",
    "    triang_cube_1_3 = [[[0,0,1],[1,1,1],[1,1,0],[1,0,0]]]\n",
    "    triang_cube_1_4 = [[[0,0,0],[1,1,0],[0,1,0],[0,0,1]]]\n",
    "    triang_cube_1_5 = [[[0,0,1],[0,1,1],[1,1,0],[1,1,1]]]\n",
    "    triang_cube_1_6 = [[[0,0,1],[0,1,1],[0,1,0],[1,1,0]]]\n",
    "    triang_cube_1 = triang_cube_1_1 + triang_cube_1_2 + triang_cube_1_3 + triang_cube_1_4 + triang_cube_1_5 + triang_cube_1_6\n",
    "    # Stack the cubes together\n",
    "    triang = triang_cube_1\n",
    "    for x in range(0,size):\n",
    "        for y in range(0,size):\n",
    "            for z in range(0,size):\n",
    "                if x==0 and y==0 and z ==0:\n",
    "                    continue\n",
    "                move = [x, y, z]\n",
    "                move = np.array(move)\n",
    "                for i in range(6):\n",
    "                    # The i-th tetrahedron\n",
    "                    tetra_moved = []\n",
    "                    for j in range(4):\n",
    "                        # The j-th vertex\n",
    "                        vert_moved = (np.array(triang_cube_1[i][j])+move).tolist()\n",
    "                        tetra_moved.append(vert_moved)\n",
    "                    triang.append(tetra_moved)\n",
    "\n",
    "    # Cut a random corner of the cube\n",
    "    idx = np.random.randint(len(corner))\n",
    "    #p = corner[idx]\n",
    "    p = [1,1,1]\n",
    "    print 'p: ', p\n",
    "    corner.remove(p)\n",
    "    cube_new = Polyhedron(corner)\n",
    "    vertices = cube_new.vertices()\n",
    "    corner = [list(vertices[i]) for i in range(len(vertices))]\n",
    "    print 'corner: ', corner\n",
    "    # Find all the tetrahedron points that contain p\n",
    "    adj_pts = []\n",
    "    triang_new = []\n",
    "    for tetra in triang:\n",
    "        if p in tetra:\n",
    "            for vertex in tetra:\n",
    "                if (vertex != p) and (vertex not in adj_pts):\n",
    "                    adj_pts.append(vertex)\n",
    "        else:\n",
    "            triang_new.append(tetra)\n",
    "    triang = triang_new\n",
    "    print 'adjacent points: ', adj_pts\n",
    "    patch = Polyhedron(adj_pts)\n",
    "    patch_triang = PointConfiguration(adj_pts).triangulate()\n",
    "    patch_triang = idx_to_pts(patch_triang, adj_pts)\n",
    "    print 'patch: ', patch_triang\n",
    "    for tetra in patch_triang:\n",
    "        triang.append(tetra)\n",
    "    print 'number of tetrahedron: ', len(triang)\n",
    "    print triang\n",
    "    \n",
    "Triang_cube(1)"
   ]
  },
  {
   "cell_type": "code",
   "execution_count": null,
   "metadata": {
    "collapsed": true
   },
   "outputs": [],
   "source": []
  }
 ],
 "metadata": {
  "anaconda-cloud": {},
  "kernelspec": {
   "display_name": "SageMath 8.2",
   "language": "",
   "name": "sagemath"
  },
  "language_info": {
   "codemirror_mode": {
    "name": "ipython",
    "version": 2
   },
   "file_extension": ".py",
   "mimetype": "text/x-python",
   "name": "python",
   "nbconvert_exporter": "python",
   "pygments_lexer": "ipython2",
   "version": "2.7.14"
  }
 },
 "nbformat": 4,
 "nbformat_minor": 1
}
