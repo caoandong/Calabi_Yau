{
 "cells": [
  {
   "cell_type": "code",
   "execution_count": 1,
   "metadata": {
    "collapsed": true
   },
   "outputs": [],
   "source": [
    "import numpy as np"
   ]
  },
  {
   "cell_type": "code",
   "execution_count": 4,
   "metadata": {
    "collapsed": false
   },
   "outputs": [],
   "source": [
    "file_path = '/home/carnd/CYML/output/train/cube_337.txt'\n",
    "out_path = '/home/carnd/CYML/output/train/cube_3_35.txt'\n",
    "file = open(file_path, 'r')\n",
    "out = open(out_path, 'w')\n",
    "max_pts = 35\n",
    "for line in file:\n",
    "    l = eval(line)\n",
    "    pts_new = pts = l[0]\n",
    "    num_pts = len(pts)\n",
    "    if num_pts < max_pts:\n",
    "        for i in range(max_pts - num_pts):\n",
    "            pts_new.append([1j,1j,1j])\n",
    "    #print(pts_new)\n",
    "    if l[1] == -1:\n",
    "        continue\n",
    "    out.write(\"%s\\n\" % [pts_new, l[1]])\n",
    "out.close()\n"
   ]
  },
  {
   "cell_type": "code",
   "execution_count": 13,
   "metadata": {
    "collapsed": false
   },
   "outputs": [],
   "source": [
    "file_path = '/home/carnd/CYML/output/vol/vol_cube_5.txt'\n",
    "out_path = '/home/carnd/CYML/output/vol/vol_cube_5_35.txt'\n",
    "file = open(file_path, 'r')\n",
    "out = open(out_path, 'w')\n",
    "for line in file:\n",
    "    I = 1j\n",
    "    l = eval(line)\n",
    "    pts_new = []\n",
    "    pts = l[0]\n",
    "    if l[1] != -1:\n",
    "        for i in range(len(pts)):\n",
    "            pts_new.append(pts[i])\n",
    "            #if pts[i][0] != 1.00000000000000*I and pts[i][1] != 1.00000000000000*I and pts[i][2] != 1.00000000000000*I:\n",
    "            #    pts_new.append(pts[i])\n",
    "        out.write(\"%s\\n\" % [pts_new, l[1]])\n",
    "out.close()"
   ]
  },
  {
   "cell_type": "markdown",
   "metadata": {},
   "source": []
  }
 ],
 "metadata": {
  "anaconda-cloud": {},
  "kernelspec": {
   "display_name": "Python [conda env:carnd-term1]",
   "language": "python",
   "name": "conda-env-carnd-term1-py"
  },
  "language_info": {
   "codemirror_mode": {
    "name": "ipython",
    "version": 3
   },
   "file_extension": ".py",
   "mimetype": "text/x-python",
   "name": "python",
   "nbconvert_exporter": "python",
   "pygments_lexer": "ipython3",
   "version": "3.5.2"
  }
 },
 "nbformat": 4,
 "nbformat_minor": 1
}
