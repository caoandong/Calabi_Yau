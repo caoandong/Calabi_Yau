{
 "cells": [
  {
   "cell_type": "code",
   "execution_count": null,
   "metadata": {
    "collapsed": true
   },
   "outputs": [],
   "source": [
    "import math\n",
    "import numpy as np\n",
    "import scipy\n",
    "import scipy.optimize\n",
    "import matplotlib.pyplot as plt\n",
    "import csv"
   ]
  },
  {
   "cell_type": "code",
   "execution_count": 4,
   "metadata": {
    "collapsed": false
   },
   "outputs": [
    {
     "name": "stdout",
     "output_type": "stream",
     "text": [
      "[[[-3, -3, -3], [-3, -3, 3]], [[-3, -3, -3], [-3, 3, -3]], [[-3, -3, 3], [-3, 3, 3]], [[-3, 3, -3], [-3, 3, 3]], [[-3, -3, -3], [3, -3, -3]], [[-3, -3, 3], [3, -3, 3]], [[3, -3, -3], [3, -3, 3]], [[-3, 3, -3], [3, 3, -3]], [[3, -3, -3], [3, 3, -3]], [[-3, 3, 3], [3, 3, 3]], [[3, -3, 3], [3, 3, 3]], [[3, 3, -3], [3, 3, 3]]]\n",
      "contains:  1\n"
     ]
    }
   ],
   "source": [
    "p1 = polytopes.hypercube(3)\n",
    "p1 = p1.dilation(3)\n",
    "#print 'vertices: ', list(p1.vertices())\n",
    "face_p1 = p1.faces(1)\n",
    "#print 'edges: ', face_p1\n",
    "faces = []\n",
    "for i in range(len(face_p1)):\n",
    "    faces.append([])\n",
    "for i in range(len(face_p1)):\n",
    "    faces[i].append(list(list(face_p1)[i].vertices()[0]))\n",
    "    faces[i].append(list(list(face_p1)[i].vertices()[1]))\n",
    "print faces\n",
    "print 'contains: ', on_edge([-3,-3,0], faces)"
   ]
  },
  {
   "cell_type": "code",
   "execution_count": 3,
   "metadata": {
    "collapsed": false
   },
   "outputs": [
    {
     "name": "stdout",
     "output_type": "stream",
     "text": [
      " pts_new: \n",
      "[[-3 -3 -3]\n",
      " [-3 -3  3]\n",
      " [-3  3 -3]\n",
      " [-3  3  3]\n",
      " [ 3 -3 -3]\n",
      " [ 3 -3  3]\n",
      " [ 3  3 -3]\n",
      " [ 3  3  3]\n",
      " [-3 -3 -2]\n",
      " [-3 -3 -1]\n",
      " [-3 -3  0]\n",
      " [-3 -3  1]\n",
      " [-3 -3  2]\n",
      " [-3 -2 -3]\n",
      " [-3 -2  3]\n",
      " [-3 -1 -3]\n",
      " [-3 -1  3]\n",
      " [-3  0 -3]\n",
      " [-3  0  3]\n",
      " [-3  1 -3]\n",
      " [-3  1  3]\n",
      " [-3  2 -3]\n",
      " [-3  2  3]\n",
      " [-3  3 -2]\n",
      " [-3  3 -1]\n",
      " [-3  3  0]\n",
      " [-3  3  1]\n",
      " [-3  3  2]\n",
      " [-2 -3 -3]\n",
      " [-2 -3  3]\n",
      " [-2  3 -3]\n",
      " [-2  3  3]\n",
      " [-1 -3 -3]\n",
      " [-1 -3  3]\n",
      " [-1  3 -3]\n",
      " [-1  3  3]\n",
      " [ 0 -3 -3]\n",
      " [ 0 -3  3]\n",
      " [ 0  3 -3]\n",
      " [ 0  3  3]\n",
      " [ 1 -3 -3]\n",
      " [ 1 -3  3]\n",
      " [ 1  3 -3]\n",
      " [ 1  3  3]\n",
      " [ 2 -3 -3]\n",
      " [ 2 -3  3]\n",
      " [ 2  3 -3]\n",
      " [ 2  3  3]\n",
      " [ 3 -3 -2]\n",
      " [ 3 -3 -1]\n",
      " [ 3 -3  0]\n",
      " [ 3 -3  1]\n",
      " [ 3 -3  2]\n",
      " [ 3 -2 -3]\n",
      " [ 3 -2  3]\n",
      " [ 3 -1 -3]\n",
      " [ 3 -1  3]\n",
      " [ 3  0 -3]\n",
      " [ 3  0  3]\n",
      " [ 3  1 -3]\n",
      " [ 3  1  3]\n",
      " [ 3  2 -3]\n",
      " [ 3  2  3]\n",
      " [ 3  3 -2]\n",
      " [ 3  3 -1]\n",
      " [ 3  3  0]\n",
      " [ 3  3  1]\n",
      " [ 3  3  2]]\n"
     ]
    }
   ],
   "source": [
    "def exist(pts, latt):\n",
    "    latt = np.array(latt)\n",
    "    for i in range(pts.shape[0]):\n",
    "        if pts[i][0]==latt[0]:\n",
    "            if pts[i][1]==latt[1]:\n",
    "                if pts[i][2]==latt[2]:\n",
    "                    return 1\n",
    "    return 0\n",
    "\n",
    "def face_list(p1):\n",
    "    face_p1 = p1.faces(1)\n",
    "    list_face_p1 = list(face_p1)\n",
    "    faces = []\n",
    "    for i in range(len(face_p1)):\n",
    "        faces.append([])\n",
    "    for i in range(len(face_p1)):\n",
    "        faces[i].append(list(list_face_p1[i].vertices()[0]))\n",
    "        faces[i].append(list(list_face_p1[i].vertices()[1]))\n",
    "    return faces\n",
    "\n",
    "def dist(p1, p2):\n",
    "    return sqrt((p1[0]-p2[0])^2+(p1[1]-p2[1])^2+(p1[2]-p2[2])^2)\n",
    "\n",
    "def on_edge(latt, faces):\n",
    "    for i in range(len(faces)):\n",
    "        if (dist(faces[i][0], faces[i][1]) == (dist(faces[i][0], latt) + dist(faces[i][1], latt))):\n",
    "            #print 'edge: ', faces[i][0], ' and ', faces[i][1]\n",
    "            #print 'l1: ', dist(faces[i][0], faces[i][1])\n",
    "            #print 'l2: ', dist(faces[i][0], latt) + dist(faces[i][1], latt)\n",
    "            return 1\n",
    "    return 0\n",
    "\n",
    "def add_lattice(poly):\n",
    "    pts = []\n",
    "    vert = list(poly.vertices())\n",
    "    num_pts = len(vert)\n",
    "    \n",
    "    for i in range(num_pts):\n",
    "        pts.append(list(vert[i]))\n",
    "        \n",
    "    pts = np.array(pts)\n",
    "    pts_max = int(max(np.amax(pts, axis=0)))+1\n",
    "    pts_new = pts\n",
    "    \n",
    "    faces = face_list(poly)\n",
    "    \n",
    "    for i in range(-pts_max, pts_max):\n",
    "        for j in range(-pts_max, pts_max):\n",
    "            for k in range(-pts_max, pts_max):\n",
    "                latt = [i,j,k]\n",
    "                if latt in pts.tolist():\n",
    "                    continue\n",
    "                #if poly.contains(latt) == 1 or on_edge(latt, faces) == 1:\n",
    "                if on_edge(latt, faces) == 1:\n",
    "                    pts_new = np.append(pts_new, np.array(latt).reshape((1,3)), axis = 0)  \n",
    "    print 'pts_new: '\n",
    "    print pts_new\n",
    "    pts_new = pts_new.tolist()\n",
    "    #poly_new = PointConfiguration(pts_new)\n",
    "    poly_new = Polyhedron(vertices = pts_new)\n",
    "    return poly_new, pts_new\n",
    "    \n",
    "poly, pts = add_lattice(p1)"
   ]
  },
  {
   "cell_type": "code",
   "execution_count": 154,
   "metadata": {
    "collapsed": false
   },
   "outputs": [
    {
     "name": "stdout",
     "output_type": "stream",
     "text": [
      "edge:  [-3, -3, -3]  and  [-3, -3, 3]\n",
      "l1:  6\n",
      "l2:  6*sqrt(3)\n",
      "1\n"
     ]
    }
   ],
   "source": [
    "faces = face_list(p1)\n",
    "print on_edge([0,0,0], faces)"
   ]
  },
  {
   "cell_type": "code",
   "execution_count": 160,
   "metadata": {
    "collapsed": false
   },
   "outputs": [
    {
     "name": "stdout",
     "output_type": "stream",
     "text": [
      "[<1,2,3,4>, <1,3,5,6>, <0,3,4,6>, <0,2,4,7>, <0,5,6,7>, <1,2,5,7>]\n",
      "original pts:  [[-3, -3, -3], [-3, -3, 3], [-3, 3, -3], [-3, 3, 3], [3, -3, -3], [3, -3, 3], [3, 3, -3], [3, 3, 3], [-3, -3, -2], [-3, -3, -1], [-3, -3, 0], [-3, -3, 1], [-3, -3, 2], [-3, -2, -3], [-3, -2, 3], [-3, -1, -3], [-3, -1, 3], [-3, 0, -3], [-3, 0, 3], [-3, 1, -3], [-3, 1, 3], [-3, 2, -3], [-3, 2, 3], [-3, 3, -2], [-3, 3, -1], [-3, 3, 0], [-3, 3, 1], [-3, 3, 2], [-2, -3, -3], [-2, -3, 3], [-2, 3, -3], [-2, 3, 3], [-1, -3, -3], [-1, -3, 3], [-1, 3, -3], [-1, 3, 3], [0, -3, -3], [0, -3, 3], [0, 3, -3], [0, 3, 3], [1, -3, -3], [1, -3, 3], [1, 3, -3], [1, 3, 3], [2, -3, -3], [2, -3, 3], [2, 3, -3], [2, 3, 3], [3, -3, -2], [3, -3, -1], [3, -3, 0], [3, -3, 1], [3, -3, 2], [3, -2, -3], [3, -2, 3], [3, -1, -3], [3, -1, 3], [3, 0, -3], [3, 0, 3], [3, 1, -3], [3, 1, 3], [3, 2, -3], [3, 2, 3], [3, 3, -2], [3, 3, -1], [3, 3, 0], [3, 3, 1], [3, 3, 2]]\n",
      "removed pts:  [[-3, -3, -3], [-3, -3, 3], [-3, 3, -3], [-3, 3, 3], [3, -3, -3], [3, -3, 3], [3, 3, -3], [-3, -3, -2], [-3, -3, -1], [-3, -3, 0], [-3, -3, 1], [-3, -3, 2], [-3, -2, -3], [-3, -2, 3], [-3, -1, -3], [-3, -1, 3], [-3, 0, -3], [-3, 0, 3], [-3, 1, -3], [-3, 1, 3], [-3, 2, -3], [-3, 2, 3], [-3, 3, -2], [-3, 3, -1], [-3, 3, 0], [-3, 3, 1], [-3, 3, 2], [-2, -3, -3], [-2, -3, 3], [-2, 3, -3], [-2, 3, 3], [-1, -3, -3], [-1, -3, 3], [-1, 3, -3], [-1, 3, 3], [0, -3, -3], [0, -3, 3], [0, 3, -3], [0, 3, 3], [1, -3, -3], [1, -3, 3], [1, 3, -3], [1, 3, 3], [2, -3, -3], [2, -3, 3], [2, 3, -3], [2, 3, 3], [3, -3, -2], [3, -3, -1], [3, -3, 0], [3, -3, 1], [3, -3, 2], [3, -2, -3], [3, -2, 3], [3, -1, -3], [3, -1, 3], [3, 0, -3], [3, 0, 3], [3, 1, -3], [3, 1, 3], [3, 2, -3], [3, 2, 3], [3, 3, -2], [3, 3, -1], [3, 3, 0], [3, 3, 1], [3, 3, 2]]\n",
      "new vertices:  (A vertex at (-3, -3, -3), A vertex at (3, 3, 2), A vertex at (3, 3, -3), A vertex at (3, 2, 3), A vertex at (3, -3, 3), A vertex at (3, -3, -3), A vertex at (-3, -3, 3), A vertex at (2, 3, 3), A vertex at (-3, 3, 3), A vertex at (-3, 3, -3))\n"
     ]
    }
   ],
   "source": [
    "face_pts = list(poly.faces(2))\n",
    "print face_pts\n",
    "\n",
    "print 'original pts: ', pts\n",
    "pts_removed = pts\n",
    "pts_save = np.array(pts)\n",
    "\n",
    "remove_pt = list(face_pts[0].vertices()[0])\n",
    "pts_removed.remove(remove_pt)\n",
    "print 'removed pts: ', pts_removed\n",
    "\n",
    "pts = pts_save.tolist()\n",
    "\n",
    "poly_new = Polyhedron(vertices = pts_removed)\n",
    "face_new = list(poly_new.faces(2))\n",
    "print 'new vertices: ', poly_new.vertices()"
   ]
  },
  {
   "cell_type": "code",
   "execution_count": 147,
   "metadata": {
    "collapsed": false
   },
   "outputs": [
    {
     "name": "stdout",
     "output_type": "stream",
     "text": [
      "[<0,1,2>, <1,2,3,4>, <0,2,3,5>, <0,1,6>, <1,4,6>, <0,5,6>, <3,4,5,6>]\n"
     ]
    }
   ],
   "source": [
    "print face_new\n",
    "poly_new.plot().save(\"plot1.png\")"
   ]
  },
  {
   "cell_type": "code",
   "execution_count": 16,
   "metadata": {
    "collapsed": false
   },
   "outputs": [
    {
     "data": {
      "image/png": "[encoded data removed]",
      "text/plain": [
       "<matplotlib.figure.Figure object at 0x7fdbedefdfd0>"
      ]
     },
     "metadata": {},
     "output_type": "display_data"
    },
    {
     "data": {
      "image/png": "[encoded data removed]",
      "text/plain": [
       "<matplotlib.figure.Figure object at 0x7fdbf2366490>"
      ]
     },
     "metadata": {},
     "output_type": "display_data"
    }
   ],
   "source": [
    "import matplotlib.pyplot as plt\n",
    "from matplotlib import pyplot\n",
    "\n",
    "loss_test_path = 'pointnet-master/log/test/loss_test.txt'\n",
    "loss_train_path = 'pointnet-master/log/train/loss_train.txt'\n",
    "loss_test = open(loss_test_path, 'r')\n",
    "loss_train = open(loss_train_path, 'r')\n",
    "test = [eval(line) for line in loss_test]\n",
    "train = [eval(line) for line in loss_train]\n",
    "len_test = len(test)\n",
    "len_train = len(train)\n",
    "\n",
    "#a = [ pow(10,i) for i in range(10) ]\n",
    "pyplot.subplot(2,1,1)\n",
    "pyplot.plot(test, color='blue', lw=2)\n",
    "pyplot.yscale('log')\n",
    "pyplot.show()\n",
    "\n",
    "pyplot.subplot(2,1,1)\n",
    "pyplot.plot(train, color='blue', lw=2)\n",
    "pyplot.yscale('log')\n",
    "pyplot.show()"
   ]
  },
  {
   "cell_type": "code",
   "execution_count": 2,
   "metadata": {
    "collapsed": false
   },
   "outputs": [
    {
     "name": "stdout",
     "output_type": "stream",
     "text": [
      "output/vol/cube/failed/3x3_failed.txt\n"
     ]
    }
   ],
   "source": [
    "SIDE_LENGTH = 3\n",
    "print 'output/vol/cube/failed/%dx%d_failed.txt' % (SIDE_LENGTH, SIDE_LENGTH)\n",
    "fail_out = open('output/vol/cube/failed/%dx%d_failed.txt' % (SIDE_LENGTH, SIDE_LENGTH), 'w')"
   ]
  }
 ],
 "metadata": {
  "anaconda-cloud": {},
  "kernelspec": {
   "display_name": "SageMath 8.2",
   "language": "",
   "name": "sagemath"
  },
  "language_info": {
   "codemirror_mode": {
    "name": "ipython",
    "version": 2
   },
   "file_extension": ".py",
   "mimetype": "text/x-python",
   "name": "python",
   "nbconvert_exporter": "python",
   "pygments_lexer": "ipython2",
   "version": "2.7.14"
  }
 },
 "nbformat": 4,
 "nbformat_minor": 1
}
