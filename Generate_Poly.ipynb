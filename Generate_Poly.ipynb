{
 "cells": [
  {
   "cell_type": "code",
   "execution_count": 189,
   "metadata": {
    "collapsed": true
   },
   "outputs": [],
   "source": [
    "import math\n",
    "import numpy as np\n",
    "import scipy\n",
    "import scipy.optimize\n",
    "import matplotlib.pyplot as plt\n",
    "import csv"
   ]
  },
  {
   "cell_type": "code",
   "execution_count": 207,
   "metadata": {
    "collapsed": false
   },
   "outputs": [],
   "source": [
    "#Helper Functions\n",
    "\n",
    "def exist(pts, latt):\n",
    "    latt = np.array(latt)\n",
    "    for i in range(pts.shape[0]):\n",
    "        if pts[i][0]==latt[0]:\n",
    "            if pts[i][1]==latt[1]:\n",
    "                if pts[i][2]==latt[2]:\n",
    "                    return 1\n",
    "    return 0\n",
    "\n",
    "def face_list(p1):\n",
    "    face_p1 = p1.faces(1)\n",
    "    list_face_p1 = list(face_p1)\n",
    "    faces = []\n",
    "    for i in range(len(face_p1)):\n",
    "        faces.append([])\n",
    "    for i in range(len(face_p1)):\n",
    "        faces[i].append(list(list_face_p1[i].vertices()[0]))\n",
    "        faces[i].append(list(list_face_p1[i].vertices()[1]))\n",
    "    return faces\n",
    "\n",
    "def vert_to_list(vert):\n",
    "    num_vert = len(vert)\n",
    "    vert_list = []\n",
    "    for i in range(num_vert):\n",
    "        vert_list.append(list(vert[i]))\n",
    "    return vert_list\n",
    "\n",
    "def dist(p1, p2):\n",
    "    return sqrt((p1[0]-p2[0])^2+(p1[1]-p2[1])^2+(p1[2]-p2[2])^2)\n",
    "\n",
    "def on_edge(latt, faces):\n",
    "    for i in range(len(faces)):\n",
    "        if (dist(faces[i][0], faces[i][1]) == (dist(faces[i][0], latt) + dist(faces[i][1], latt))):\n",
    "            #print 'edge: ', faces[i][0], ' and ', faces[i][1]\n",
    "            #print 'l1: ', dist(faces[i][0], faces[i][1])\n",
    "            #print 'l2: ', dist(faces[i][0], latt) + dist(faces[i][1], latt)\n",
    "            return 1\n",
    "    return 0\n",
    "\n",
    "#Add lattice points onto the edge of a polygon\n",
    "def add_lattice(poly):\n",
    "    #convert vertices to points\n",
    "    pts = []\n",
    "    vert = list(poly.vertices())\n",
    "    num_pts = len(vert)\n",
    "    \n",
    "    for i in range(num_pts):\n",
    "        pts.append(list(vert[i]))\n",
    "        \n",
    "    #find the maximum of points\n",
    "    pts = np.array(pts)\n",
    "    pts_max = int(max(np.amax(np.absolute(pts), axis=0)))+1\n",
    "    pts_new = pts\n",
    "    \n",
    "    faces = face_list(poly)\n",
    "    \n",
    "    for i in range(-pts_max, pts_max):\n",
    "        for j in range(-pts_max, pts_max):\n",
    "            for k in range(-pts_max, pts_max):\n",
    "                latt = [i,j,k]\n",
    "                if latt in pts.tolist():\n",
    "                    continue\n",
    "                if poly.contains(latt) == 1 or on_edge(latt, faces) == 1:\n",
    "                #if on_edge(latt, faces) == 1:\n",
    "                    pts_new = np.append(pts_new, np.array(latt).reshape((1,3)), axis = 0)  \n",
    "    #print 'pts_new: '\n",
    "    #print pts_new\n",
    "    pts_new = pts_new.tolist()\n",
    "    poly_new = Polyhedron(vertices = pts_new)\n",
    "    \n",
    "    \n",
    "    \n",
    "    return poly_new, pts_new\n",
    "\n",
    "\n",
    "#remove a point from a polyhedron\n",
    "#input: points of a polyhedron; a point to be removed\n",
    "#output: polyhedron with a point removed\n",
    "def remove_pts(pts, remove_pt):\n",
    "    #points to remove\n",
    "    pts_removed = pts\n",
    "    \n",
    "    #backup points\n",
    "    pts_save = np.array(pts)\n",
    "    \n",
    "    #remove points\n",
    "    pts_removed.remove(remove_pt)\n",
    "    \n",
    "    #restore\n",
    "    pts = pts_save.tolist()\n",
    "    \n",
    "    poly_new = Polyhedron(vertices = pts_removed)\n",
    "    \n",
    "    return poly_new\n",
    "\n",
    "#Count the number of lattice points inside a polytope\n",
    "def num_latt(poly):\n",
    "    count = 0\n",
    "    \n",
    "    #convert vertices to points\n",
    "    pts = []\n",
    "    vert = list(poly.vertices())\n",
    "    num_pts = len(vert)\n",
    "    \n",
    "    for i in range(num_pts):\n",
    "        pts.append(list(vert[i]))\n",
    "    \n",
    "    #find the maximum of points\n",
    "    pts = np.array(pts)\n",
    "    pts_max = int(max(np.amax(pts, axis=0)))+1\n",
    "    \n",
    "    faces = face_list(poly)\n",
    "    \n",
    "    for i in range(-pts_max, pts_max):\n",
    "        for j in range(-pts_max, pts_max):\n",
    "            for k in range(-pts_max, pts_max):\n",
    "                latt = [i,j,k]\n",
    "                if latt in pts.tolist():\n",
    "                    continue\n",
    "                if poly.contains(latt) == 1:\n",
    "                    count += 1\n",
    "    return count"
   ]
  },
  {
   "cell_type": "code",
   "execution_count": 210,
   "metadata": {
    "collapsed": false
   },
   "outputs": [
    {
     "name": "stdout",
     "output_type": "stream",
     "text": [
      "Step 1: add lattice done.\n",
      "Step 2: remove points done.\n"
     ]
    }
   ],
   "source": [
    "#Execution Cell\n",
    "\n",
    "output_path = 'output/polygon/poly_out_2.txt'\n",
    "\n",
    "def generate_poly(size, num_poly, output_path):\n",
    "    \n",
    "    output = open(output_path, 'w')\n",
    "    \n",
    "    p1 = polytopes.hypercube(3)\n",
    "    p1 = p1.dilation(size)\n",
    "    \n",
    "    poly, pts = add_lattice(p1)\n",
    "    print \"Step 1: add lattice done.\"\n",
    "    \n",
    "    for i in range(num_poly):\n",
    "        \n",
    "        face_pts = list(poly.faces(2))\n",
    "        num_faces = len(face_pts)\n",
    "        face_idx = np.random.randint(num_faces)\n",
    "        pt_idx = np.random.randint(3)\n",
    "        remove_pt = list(face_pts[face_idx].vertices()[pt_idx])\n",
    "        poly = remove_pts(pts, remove_pt)\n",
    "        poly_vert = vert_to_list(poly.vertices())\n",
    "        output.write(\"%s\\n\" % poly_vert)\n",
    "        poly.plot().save(\"img/plot_2_%d.png\" % i)\n",
    "        \n",
    "        if len(poly_vert) < 3:\n",
    "            print 'Not enough points.'\n",
    "            break\n",
    "    \n",
    "    print \"Step 2: remove points done.\"\n",
    "    output.close()\n",
    "    \n",
    "generate_poly(2, 30, output_path)"
   ]
  },
  {
   "cell_type": "code",
   "execution_count": 212,
   "metadata": {
    "collapsed": false
   },
   "outputs": [],
   "source": [
    "import imageio\n",
    "\n",
    "def generate_gif(num_poly):\n",
    "    images = []\n",
    "    for i in range(num_poly):\n",
    "        filename = \"img/plot_2_%d.png\"%i\n",
    "        images.append(imageio.imread(filename))\n",
    "    imageio.mimsave('img/movie_2.gif', images)\n",
    "\n",
    "generate_gif(30)"
   ]
  },
  {
   "cell_type": "code",
   "execution_count": 208,
   "metadata": {
    "collapsed": false
   },
   "outputs": [
    {
     "name": "stdout",
     "output_type": "stream",
     "text": [
      "114\n"
     ]
    }
   ],
   "source": [
    "p1 = polytopes.hypercube(3)\n",
    "p1 = p1.dilation(2)\n",
    "poly, pts = add_lattice(p1)\n",
    "\n",
    "face_pts = list(poly.faces(2))\n",
    "num_faces = len(face_pts)\n",
    "remove_pt = list(face_pts[0].vertices()[0])\n",
    "poly = remove_pts(pts, remove_pt)\n",
    "\n",
    "print num_latt(poly)"
   ]
  }
 ],
 "metadata": {
  "anaconda-cloud": {},
  "kernelspec": {
   "display_name": "SageMath 8.2",
   "language": "",
   "name": "sagemath"
  },
  "language_info": {
   "codemirror_mode": {
    "name": "ipython",
    "version": 2
   },
   "file_extension": ".py",
   "mimetype": "text/x-python",
   "name": "python",
   "nbconvert_exporter": "python",
   "pygments_lexer": "ipython2",
   "version": "2.7.14"
  }
 },
 "nbformat": 4,
 "nbformat_minor": 1
}
