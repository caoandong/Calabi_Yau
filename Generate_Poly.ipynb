{
 "cells": [
  {
   "cell_type": "code",
   "execution_count": 2,
   "metadata": {
    "collapsed": true
   },
   "outputs": [],
   "source": [
    "import math\n",
    "import numpy as np\n",
    "import scipy\n",
    "import scipy.optimize\n",
    "import matplotlib.pyplot as plt\n",
    "import csv"
   ]
  },
  {
   "cell_type": "code",
   "execution_count": 207,
   "metadata": {
    "collapsed": false
   },
   "outputs": [],
   "source": [
    "#Helper Functions\n",
    "\n",
    "def exist(pts, latt):\n",
    "    latt = np.array(latt)\n",
    "    for i in range(pts.shape[0]):\n",
    "        if pts[i][0]==latt[0]:\n",
    "            if pts[i][1]==latt[1]:\n",
    "                if pts[i][2]==latt[2]:\n",
    "                    return 1\n",
    "    return 0\n",
    "\n",
    "def face_list(p1):\n",
    "    face_p1 = p1.faces(1)\n",
    "    list_face_p1 = list(face_p1)\n",
    "    faces = []\n",
    "    for i in range(len(face_p1)):\n",
    "        faces.append([])\n",
    "    for i in range(len(face_p1)):\n",
    "        faces[i].append(list(list_face_p1[i].vertices()[0]))\n",
    "        faces[i].append(list(list_face_p1[i].vertices()[1]))\n",
    "    return faces\n",
    "\n",
    "#Convert a set of vertices into a list\n",
    "def vert_to_list(vert):\n",
    "    num_vert = len(vert)\n",
    "    vert_list = []\n",
    "    for i in range(num_vert):\n",
    "        vert_list.append(list(vert[i]))\n",
    "    return vert_list\n",
    "\n",
    "#Calcualte the distance between two pts\n",
    "def dist(p1, p2):\n",
    "    return sqrt((p1[0]-p2[0])^2+(p1[1]-p2[1])^2+(p1[2]-p2[2])^2)\n",
    "\n",
    "def on_edge(latt, faces):\n",
    "    for i in range(len(faces)):\n",
    "        if (dist(faces[i][0], faces[i][1]) == (dist(faces[i][0], latt) + dist(faces[i][1], latt))):\n",
    "            #print 'edge: ', faces[i][0], ' and ', faces[i][1]\n",
    "            #print 'l1: ', dist(faces[i][0], faces[i][1])\n",
    "            #print 'l2: ', dist(faces[i][0], latt) + dist(faces[i][1], latt)\n",
    "            return 1\n",
    "    return 0\n",
    "\n",
    "#Add lattice points onto the edge of a polygon\n",
    "def add_lattice(poly):\n",
    "    #convert vertices to points\n",
    "    pts = []\n",
    "    vert = list(poly.vertices())\n",
    "    num_pts = len(vert)\n",
    "    \n",
    "    for i in range(num_pts):\n",
    "        pts.append(list(vert[i]))\n",
    "        \n",
    "    #find the maximum of points\n",
    "    pts = np.array(pts)\n",
    "    pts_max = int(max(np.amax(np.absolute(pts), axis=0)))+1\n",
    "    pts_new = pts\n",
    "    \n",
    "    faces = face_list(poly)\n",
    "    \n",
    "    for i in range(-pts_max, pts_max):\n",
    "        for j in range(-pts_max, pts_max):\n",
    "            for k in range(-pts_max, pts_max):\n",
    "                latt = [i,j,k]\n",
    "                if latt in pts.tolist():\n",
    "                    continue\n",
    "                if poly.contains(latt) == 1 or on_edge(latt, faces) == 1:\n",
    "                #if on_edge(latt, faces) == 1:\n",
    "                    pts_new = np.append(pts_new, np.array(latt).reshape((1,3)), axis = 0)  \n",
    "    #print 'pts_new: '\n",
    "    #print pts_new\n",
    "    pts_new = pts_new.tolist()\n",
    "    poly_new = Polyhedron(vertices = pts_new)\n",
    "    \n",
    "    \n",
    "    \n",
    "    return poly_new, pts_new\n",
    "\n",
    "\n",
    "#remove a point from a polyhedron\n",
    "#input: points of a polyhedron; a point to be removed\n",
    "#output: polyhedron with a point removed\n",
    "def remove_pts(pts, remove_pt):\n",
    "    #points to remove\n",
    "    pts_removed = pts\n",
    "    \n",
    "    #backup points\n",
    "    pts_save = np.array(pts)\n",
    "    \n",
    "    #remove points\n",
    "    pts_removed.remove(remove_pt)\n",
    "    \n",
    "    #restore\n",
    "    pts = pts_save.tolist()\n",
    "    \n",
    "    poly_new = Polyhedron(vertices = pts_removed)\n",
    "    \n",
    "    return poly_new\n",
    "\n",
    "#Count the number of lattice points inside a polytope\n",
    "def num_latt(poly):\n",
    "    count = 0\n",
    "    \n",
    "    #convert vertices to points\n",
    "    pts = []\n",
    "    vert = list(poly.vertices())\n",
    "    num_pts = len(vert)\n",
    "    \n",
    "    for i in range(num_pts):\n",
    "        pts.append(list(vert[i]))\n",
    "    \n",
    "    #find the maximum of points\n",
    "    pts = np.array(pts)\n",
    "    pts_max = int(max(np.amax(pts, axis=0)))+1\n",
    "    \n",
    "    faces = face_list(poly)\n",
    "    \n",
    "    for i in range(-pts_max, pts_max):\n",
    "        for j in range(-pts_max, pts_max):\n",
    "            for k in range(-pts_max, pts_max):\n",
    "                latt = [i,j,k]\n",
    "                if latt in pts.tolist():\n",
    "                    continue\n",
    "                if poly.contains(latt) == 1:\n",
    "                    count += 1\n",
    "    return count"
   ]
  },
  {
   "cell_type": "code",
   "execution_count": 210,
   "metadata": {
    "collapsed": false
   },
   "outputs": [
    {
     "name": "stdout",
     "output_type": "stream",
     "text": [
      "Step 1: add lattice done.\n",
      "Step 2: remove points done.\n"
     ]
    }
   ],
   "source": [
    "#Execution Cell\n",
    "\n",
    "output_path = 'output/polygon/poly_out_1024.txt'\n",
    "\n",
    "def generate_poly(size, num_poly, output_path):\n",
    "    \n",
    "    output = open(output_path, 'w')\n",
    "    \n",
    "    p1 = polytopes.hypercube(3)\n",
    "    p1 = p1.dilation(size)\n",
    "    \n",
    "    poly, pts = add_lattice(p1)\n",
    "    print \"Step 1: add lattice done.\"\n",
    "    \n",
    "    for i in range(num_poly):\n",
    "        \n",
    "        face_pts = list(poly.faces(2))\n",
    "        num_faces = len(face_pts)\n",
    "        face_idx = np.random.randint(num_faces)\n",
    "        pt_idx = np.random.randint(3)\n",
    "        remove_pt = list(face_pts[face_idx].vertices()[pt_idx])\n",
    "        poly = remove_pts(pts, remove_pt)\n",
    "        poly_vert = vert_to_list(poly.vertices())\n",
    "        output.write(\"%s\\n\" % poly_vert)\n",
    "        #poly.plot().save(\"img/plot_2_%d.png\" % i)\n",
    "        \n",
    "        if len(poly_vert) <= 4:\n",
    "            print 'Not enough points.'\n",
    "            break\n",
    "    \n",
    "    print \"Step 2: remove points done.\"\n",
    "    output.close()\n",
    "    \n",
    "generate_poly(2, 1024, output_path)"
   ]
  },
  {
   "cell_type": "code",
   "execution_count": 212,
   "metadata": {
    "collapsed": false
   },
   "outputs": [],
   "source": [
    "import imageio\n",
    "\n",
    "def generate_gif(num_poly):\n",
    "    images = []\n",
    "    for i in range(num_poly):\n",
    "        filename = \"img/plot_2_%d.png\"%i\n",
    "        images.append(imageio.imread(filename))\n",
    "    imageio.mimsave('img/movie_2.gif', images)\n",
    "\n",
    "generate_gif(30)"
   ]
  },
  {
   "cell_type": "code",
   "execution_count": 208,
   "metadata": {
    "collapsed": false
   },
   "outputs": [
    {
     "name": "stdout",
     "output_type": "stream",
     "text": [
      "114\n"
     ]
    }
   ],
   "source": [
    "p1 = polytopes.hypercube(3)\n",
    "p1 = p1.dilation(2)\n",
    "poly, pts = add_lattice(p1)\n",
    "\n",
    "face_pts = list(poly.faces(2))\n",
    "num_faces = len(face_pts)\n",
    "remove_pt = list(face_pts[0].vertices()[0])\n",
    "poly = remove_pts(pts, remove_pt)\n",
    "\n",
    "print num_latt(poly)"
   ]
  },
  {
   "cell_type": "code",
   "execution_count": null,
   "metadata": {
    "collapsed": false
   },
   "outputs": [],
   "source": []
  },
  {
   "cell_type": "code",
   "execution_count": 3,
   "metadata": {
    "collapsed": true
   },
   "outputs": [],
   "source": [
    "out_path = 'output/polygon/simplex/xyz_10.txt'\n",
    "out_file = open(out_path, 'w')\n",
    "for x in range(1, 10):\n",
    "    for y in range(1, 10):\n",
    "        for z in range(1, 10):\n",
    "            out = [[x,0,0],[0,y,0],[0,0,z]]\n",
    "            out_file.write(\"%s\\n\" % out)"
   ]
  },
  {
   "cell_type": "code",
   "execution_count": 5,
   "metadata": {
    "collapsed": true
   },
   "outputs": [],
   "source": [
    "out_path = 'output/polygon/cylinder/cyl_10.txt'\n",
    "out_file = open(out_path, 'w')\n",
    "for N in range(1, 10):\n",
    "    for h1 in range(0, 10):\n",
    "        for h2 in range(0, 10):\n",
    "            if N >= (2*h1+h2) and N >= (2*h2+h1):\n",
    "                out = [[0,0,0],[1,0,0],[0,1,0],[1,0,h1],[0,1,h2],[0,0,N-h1-h2]]\n",
    "                out_file.write(\"%s\\n\" % out)"
   ]
  },
  {
   "cell_type": "code",
   "execution_count": 6,
   "metadata": {
    "collapsed": false
   },
   "outputs": [
    {
     "name": "stdout",
     "output_type": "stream",
     "text": [
      "Done.\n"
     ]
    }
   ],
   "source": [
    "def exist(pts, latt):\n",
    "    latt = np.array(latt)\n",
    "    for i in range(pts.shape[0]):\n",
    "        if pts[i][0]==latt[0]:\n",
    "            if pts[i][1]==latt[1]:\n",
    "                if pts[i][2]==latt[2]:\n",
    "                    return 1\n",
    "    return 0\n",
    "\n",
    "def dist(p1, p2):\n",
    "    return sqrt((p1[0]-p2[0])^2+(p1[1]-p2[1])^2+(p1[2]-p2[2])^2)\n",
    "\n",
    "def on_edge(latt, poly):\n",
    "    edges = poly.faces(1)\n",
    "    num_edges = len(edges)\n",
    "    for i in range(num_edges):\n",
    "        pt1 = list(edges[i].vertices()[0])\n",
    "        pt2 = list(edges[i].vertices()[1])\n",
    "        if (dist(pt1, pt2) == (dist(pt1, latt) + dist(pt2, latt))):\n",
    "            return 1\n",
    "    return 0\n",
    "\n",
    "def on_face(latt, poly):\n",
    "    faces = poly.faces(2)\n",
    "    for face in poly.faces(2):\n",
    "        face_pts = [list(face.vertices()[i]) for i in range(len(face.vertices()))]\n",
    "        face_poly = Polyhedron(face_pts)\n",
    "        if face_poly.contains(latt) == 1:\n",
    "            return 1\n",
    "    return 0\n",
    "\n",
    "def count_pts(pts):\n",
    "    # Count the number of corner points, edge points, face points, and body points\n",
    "    num_corner = len(pts)\n",
    "    num_edge = 0\n",
    "    num_face = 0\n",
    "    num_body = 0\n",
    "    #edge = []\n",
    "    #face = []\n",
    "    #body = []\n",
    "    pts_max = int(max(np.amax(pts, axis=0)))+1\n",
    "    pts_min = int(min(np.amin(pts, axis=0)))-1\n",
    "    #print 'pts_max: ', pts_max\n",
    "    #print 'pts_min: ', pts_min\n",
    "    poly = Polyhedron(pts)\n",
    "    pts_new = pts\n",
    "    for i in range(pts_min, pts_max):\n",
    "        for j in range(pts_min, pts_max):\n",
    "            for k in range(pts_min, pts_max):\n",
    "                latt = [i,j,k]\n",
    "                if exist(np.array(pts), latt) == 1:\n",
    "                    continue\n",
    "                if on_edge(latt, poly) == 1:\n",
    "                    num_edge += 1\n",
    "                    #edge.append(latt)\n",
    "                elif on_face(latt, poly) == 1:\n",
    "                    num_face += 1\n",
    "                    #face.append(latt)\n",
    "                elif poly.interior_contains(latt) == 1:\n",
    "                    num_body += 1\n",
    "                    #body.append(latt)\n",
    "    #print 'edge: ', edge\n",
    "    #print 'face: ', face\n",
    "    #print 'body: ', body\n",
    "    return [num_corner, num_edge, num_face, num_body]\n",
    "\n",
    "print 'Done.'"
   ]
  },
  {
   "cell_type": "code",
   "execution_count": 5,
   "metadata": {
    "collapsed": false
   },
   "outputs": [
    {
     "name": "stdout",
     "output_type": "stream",
     "text": [
      "pts_max:  4\n",
      "pts_min:  -1\n",
      "edge:  [[0, 0, 2], [0, 1, 3], [0, 2, 0], [0, 2, 3], [0, 3, 1], [0, 3, 2], [1, 0, 3], [1, 3, 0], [1, 3, 3], [2, 0, 0], [2, 3, 0], [2, 3, 3], [3, 0, 1], [3, 1, 0], [3, 2, 0], [3, 2, 3], [3, 3, 1], [3, 3, 2]]\n",
      "face:  [[0, 1, 1], [0, 1, 2], [0, 2, 1], [0, 2, 2], [1, 0, 1], [1, 0, 2], [1, 1, 0], [1, 1, 3], [1, 2, 0], [1, 2, 3], [1, 3, 1], [1, 3, 2], [2, 0, 1], [2, 0, 2], [2, 1, 0], [2, 1, 3], [2, 2, 0], [2, 2, 3], [2, 3, 1], [2, 3, 2], [3, 1, 1], [3, 1, 2], [3, 2, 1], [3, 2, 2]]\n",
      "body:  [[1, 1, 1], [1, 1, 2], [1, 2, 1], [1, 2, 2], [2, 1, 1], [2, 1, 2], [2, 2, 1], [2, 2, 2]]\n"
     ]
    },
    {
     "data": {
      "text/plain": [
       "[12, 18, 24, 8]"
      ]
     },
     "execution_count": 5,
     "metadata": {},
     "output_type": "execute_result"
    }
   ],
   "source": [
    "pts = [[0.0, 0.0, 3.0], [0.0, 3.0, 0.0], [0.0, 3.0, 3.0], [3.0, 0.0, 0.0], [3.0, 3.0, 0.0], [3.0, 3.0, 3.0], [0.0, 0.0, 1.0], [0.0, 1.0, 0.0], [1.0, 0.0, 0.0], [2.0, 0.0, 3.0], [3.0, 0.0, 2.0], [3.0, 1.0, 3.0]]\n",
    "count_pts(pts)"
   ]
  },
  {
   "cell_type": "code",
   "execution_count": 4,
   "metadata": {
    "collapsed": false
   },
   "outputs": [
    {
     "name": "stdout",
     "output_type": "stream",
     "text": [
      "Hello World\n"
     ]
    }
   ],
   "source": [
    "print 'Hello ' + 'World'"
   ]
  },
  {
   "cell_type": "code",
   "execution_count": 9,
   "metadata": {
    "collapsed": false
   },
   "outputs": [
    {
     "name": "stdout",
     "output_type": "stream",
     "text": [
      "Done.\n"
     ]
    }
   ],
   "source": [
    "file_path = 'output/train/cylinder/tri_1_to_50_2.txt'\n",
    "out_path = 'machine_learning/symbolic_regression/SoRa-master/test_modifydata/tri_1_to_50_2.csv'\n",
    "\n",
    "train_file = open(file_path, 'r')\n",
    "out_file = open(out_path, 'w')\n",
    "\n",
    "out_file.write('x,y,z\\n')\n",
    "for line in train_file:\n",
    "    data = eval(line)\n",
    "    x = data[0][1]\n",
    "    y = data[0][2]\n",
    "    z = data[1]\n",
    "    if z > 0:\n",
    "        z = 1/float(z)\n",
    "        out_file.write('%f,%f,%f\\n' % (x,y,z))\n",
    "out_file.close()\n",
    "print 'Done.'"
   ]
  },
  {
   "cell_type": "raw",
   "metadata": {},
   "source": []
  }
 ],
 "metadata": {
  "anaconda-cloud": {},
  "kernelspec": {
   "display_name": "SageMath 8.2",
   "language": "",
   "name": "sagemath"
  },
  "language_info": {
   "codemirror_mode": {
    "name": "ipython",
    "version": 2
   },
   "file_extension": ".py",
   "mimetype": "text/x-python",
   "name": "python",
   "nbconvert_exporter": "python",
   "pygments_lexer": "ipython2",
   "version": "2.7.14"
  }
 },
 "nbformat": 4,
 "nbformat_minor": 1
}
