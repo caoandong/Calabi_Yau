{
 "cells": [
  {
   "cell_type": "code",
   "execution_count": 1,
   "metadata": {
    "collapsed": false
   },
   "outputs": [
    {
     "name": "stdout",
     "output_type": "stream",
     "text": [
      "Done.\n"
     ]
    }
   ],
   "source": [
    "import math\n",
    "import numpy as np\n",
    "import scipy\n",
    "import scipy.optimize\n",
    "import matplotlib.pyplot as plt\n",
    "import csv\n",
    "#from scipy.optimize import minimize\n",
    "#import tensorflow as tf\n",
    "\n",
    "PointConfiguration.set_engine('internal')\n",
    "#PointConfiguration.set_engine('topcom')\n",
    "print 'Done.'"
   ]
  },
  {
   "cell_type": "code",
   "execution_count": 2,
   "metadata": {
    "collapsed": false
   },
   "outputs": [
    {
     "name": "stdout",
     "output_type": "stream",
     "text": [
      "Done.\n"
     ]
    }
   ],
   "source": [
    "#Helper functions to initialize input data\n",
    "\n",
    "def reflex_poly(n):\n",
    "    \n",
    "    polytopes_list = [1, 5, 6, 7, 8, 25, 26, 27, 28, 29, 30, 31, 82, 83, 84, 85, 219, 220]\n",
    "    \n",
    "    P = list(ReflexivePolytope(3, polytopes_list[n-1]-1).vertices())\n",
    "    pts = []\n",
    "    \n",
    "    for j in range(len(P)):\n",
    "        pts.append(list(P[j]))\n",
    "    \n",
    "    return pts\n",
    "\n",
    "def reflex_poly_list(num_poly):\n",
    "    \n",
    "    if num_poly > 18:\n",
    "        print 'Please input integers <= 18'\n",
    "        return -1\n",
    "    \n",
    "    polytopes_list = [1, 5, 6, 7, 8, 25, 26, 27, 28, 29, 30, 31, 82, 83, 84, 85, 219, 220]\n",
    "\n",
    "    pts = []\n",
    "    \n",
    "    for i in range(num_poly):\n",
    "        pts.append(reflex_poly(i))\n",
    "\n",
    "    print 'Initialize reflexive polytope done.'\n",
    "    \n",
    "    return pts\n",
    "\n",
    "def input_data(input_path):\n",
    "    \n",
    "    #Code to load 'poly_out.txt'\n",
    "    with open(input_path) as f:\n",
    "        pts = []\n",
    "        pts_tmp = []\n",
    "        \n",
    "        for line in f:\n",
    "            #print line\n",
    "            pts_tmp = eval(line)\n",
    "            pts.append(pts_tmp)\n",
    "        \n",
    "        '''\n",
    "        #Code to load 'result.txt'\n",
    "        for line in f:\n",
    "            pt = line.split(' ')\n",
    "            print line\n",
    "            if line == '\\n' or pt == '\\n':\n",
    "                pts.append(pts_tmp)\n",
    "                pts_tmp = []\n",
    "                continue\n",
    "            for i in range(len(pt)):\n",
    "                print pt[i]\n",
    "                pt[i] = float(pt[i].strip(','))\n",
    "            pts_tmp.append(pt)\n",
    "        if line != '\\n':\n",
    "            pts.append(pts_tmp)\n",
    "        '''\n",
    "    \n",
    "    return pts\n",
    "\n",
    "print 'Done.'"
   ]
  },
  {
   "cell_type": "code",
   "execution_count": 9,
   "metadata": {
    "collapsed": false,
    "scrolled": false
   },
   "outputs": [
    {
     "name": "stdout",
     "output_type": "stream",
     "text": [
      "Done.\n"
     ]
    }
   ],
   "source": [
    "#Helper functions to find the Hilbert Series\n",
    "\n",
    "def exist(pts, latt):\n",
    "    latt = np.array(latt)\n",
    "    for i in range(pts.shape[0]):\n",
    "        if pts[i][0]==latt[0]:\n",
    "            if pts[i][1]==latt[1]:\n",
    "                if pts[i][2]==latt[2]:\n",
    "                    return 1\n",
    "    return 0\n",
    "\n",
    "#Compute cross product of three 4-vectors\n",
    "def four_cross(v1, v2, v3, v4):\n",
    "    #print \"input vectors: \", v1, v2, v3, v4\n",
    "    v = np.zeros((4,))\n",
    "    '''\n",
    "    v1 = list(map(int, v1))\n",
    "    v2 = list(map(int, v2))\n",
    "    v3 = list(map(int, v3))\n",
    "    '''\n",
    "    counter = 0\n",
    "    \n",
    "    for i in range(4):\n",
    "        mat = [v1[np.arange(len(v1))!=i].tolist(), v2[np.arange(len(v2))!=i].tolist(), v3[np.arange(len(v3))!=i].tolist()]\n",
    "        mat = matrix(ZZ, mat)\n",
    "        #print 'matrix: '\n",
    "        #print mat\n",
    "        if counter == 1:\n",
    "            v[i] = -1*mat.det()\n",
    "            counter = 0\n",
    "            #print 'neg: ', v[i]\n",
    "            continue\n",
    "        elif counter == 0:\n",
    "            v[i] = mat.det()\n",
    "            counter = 1\n",
    "            #print 'pos: ', v[i]\n",
    "    #print v\n",
    "    mat = matrix(RR, [v1.tolist(), v2.tolist(), v3.tolist(), v4.tolist()])\n",
    "    \n",
    "    if mat.det() < 0:\n",
    "        #print 'original: ', v\n",
    "        v = -1*v\n",
    "        #print 'changed: ', v\n",
    "    #print 'vector: ', v\n",
    "    return v\n",
    "\n",
    "'''\n",
    "def Hilb(tri, p, output):\n",
    "    num_tri = len(tri)\n",
    "    len_tri = len(tri[0])\n",
    "    triang_list = np.zeros((num_tri, len_tri, 4))\n",
    "    \n",
    "    #Convert each element of p into a 4-vector\n",
    "    #whose last entry equals to 1\n",
    "    for i in range(num_tri):\n",
    "        for j in range(len_tri):\n",
    "            triang_list[i][j] = np.append(np.array(p[tri[i][j]]) , 1)\n",
    "            \n",
    "    #print 'triang_list: '\n",
    "    #print triang_list   '''\n",
    "def Hilb(triang_list, output):\n",
    "    triang = np.array(triang_list)\n",
    "    power = np.zeros(shape = triang.shape)\n",
    "    Hilb = 0\n",
    "    t = var('t')\n",
    "    t1 = var('t1')\n",
    "    t2 = var('t2')\n",
    "    t3 = var('t3')\n",
    "    t4 = var('t4')\n",
    "    for tri in range(triang.shape[0]):\n",
    "        hilb = 1\n",
    "        t_prod = 1\n",
    "        for i in range(4):\n",
    "            #Multiplying by -1 is optional\n",
    "            power[tri][i] = -1*four_cross(triang[tri][i], triang[tri][np.remainder(i+1, 4)], triang[tri][np.remainder(i+2, 4)], triang[tri][np.remainder(i+3, 4)])\n",
    "            t_prod = t1^(int(power[tri][i][0]))*t2^(int(power[tri][i][1]))*t3^(int(power[tri][i][2]))*t4^int((power[tri][i][3]))\n",
    "            hilb *= (1-t_prod)^(-1)\n",
    "        #print 'Hilbert: ', hilb\n",
    "        Hilb += hilb\n",
    "    #print 'Hilb: ', Hilb()\n",
    "    #print Hilb(t1=t, t2=t, t3=t).series(t4, 3)\n",
    "    #print \"p-q web: \", power \n",
    "    \n",
    "    \n",
    "    m = var('m')\n",
    "    b1 = var('b1')\n",
    "    b2 = var('b2')\n",
    "    b3 = var('b3')\n",
    "    b4 = var('b4')\n",
    "    Hilb *= m^4\n",
    "    \n",
    "    #print 'Hilb: ', str(Hilb(t1 = (m*b1).exp(), t2 = (m*b2).exp(), t3 = (m*b3).exp(), t4 = (m*4).exp())).replace('e', 'E')\n",
    "    \n",
    "    \n",
    "    Series = Hilb(t1 = (m*b1).exp(), t2 = (m*b2).exp(), t3 = (m*b3).exp(), t4 = (m*4).exp()).series(m==0, 1)\n",
    "    Series = Series.truncate()\n",
    "    #Series = limit(Hilb(t1 = (m*b1).exp(), t2 = (m*b2).exp(), t3 = (m*b3).exp(), t4 = (m*4).exp()), m=0)\n",
    "    #print 'Series: ', Series\n",
    "    \n",
    "    if output != 0:\n",
    "        output.write(\"%s\\n\" % Series)\n",
    "\n",
    "    return Series\n",
    "\n",
    "def Triang(p, output):\n",
    "    #Input output = 0 if do not want output\n",
    "    pts = np.array(p)\n",
    "    poly = Polyhedron(p)\n",
    "    pts_max = int(max(np.amax(np.absolute(pts), axis=0)))+1\n",
    "    pts_new = pts\n",
    "    for i in range(-pts_max, pts_max):\n",
    "        for j in range(-pts_max, pts_max):\n",
    "            for k in range(-pts_max, pts_max):\n",
    "                latt = [i,j,k]\n",
    "                if exist(pts, latt)==1:\n",
    "                    continue\n",
    "                if poly.contains(latt) == 1:\n",
    "                    pts_new = np.append(pts_new, np.array(latt).reshape((1,3)), axis = 0)  \n",
    "    #print 'pts_new: ', pts_new\n",
    "    pts_new = pts_new.tolist()\n",
    "    points = PointConfiguration(pts_new)\n",
    "    triang = points.triangulate()\n",
    "    triang = [list(triang[i]) for i in range(len(triang))]\n",
    "    triang_new = []\n",
    "    check_triang(triang, pts_new, triang_new)\n",
    "    print 'triangulate: ', triang_new\n",
    "    \n",
    "    #Calculate the Hilbert series\n",
    "    #Series = Hilb(triang, pts_new, output)\n",
    "    Series = Hilb(triang_new, output)\n",
    "    \n",
    "    return Series\n",
    "'''\n",
    "def check_triang(triang, pts):\n",
    "    triang_new = triang\n",
    "    for i in range(len(triang)):\n",
    "        #triang_new.append(list(triang[i]))\n",
    "        poly_tmp = Polyhedron(list(triang[i]))\n",
    "        for j in range(len(pts)):\n",
    "            if poly_tmp.contains(pts[j]):\n",
    "                triang_tmp = PointConfiguration(list(triang[i])).triangulate()\n",
    "                triang_new.remove(triang[i])\n",
    "                triang_new.append(triang_tmp)\n",
    "    return triang_new\n",
    "\n",
    "'''\n",
    "def check_one_triang(triang, pts):\n",
    "    triang_list = triang\n",
    "    #print 'pts: ', pts\n",
    "    #print 'triang: ', triang\n",
    "    vert = [pts[k] for k in triang]\n",
    "    poly = Polyhedron(vert)\n",
    "    \n",
    "    for h in range(len(pts)):\n",
    "        if h in triang:\n",
    "            continue\n",
    "        elif poly.contains(pts[h]):\n",
    "            triang_list.append(h)\n",
    "    \n",
    "    return triang_list\n",
    "\n",
    "def check_triang(triang, pts, triang_new):\n",
    "    #triang_new = []\n",
    "    for i in range(len(triang)):\n",
    "        check = check_one_triang(triang[i], pts)\n",
    "        #print \"check \", i, \": \", check\n",
    "        len_check = len(check)\n",
    "        \n",
    "        if len_check <= 4:\n",
    "            triang_save = [np.append(np.array(pts[k]),1).tolist() for k in check]\n",
    "            #print 'add: ', triang_save\n",
    "            triang_new.append(triang_save)\n",
    "            \n",
    "        else:\n",
    "            pts_tmp = [pts[j] for j in check]\n",
    "            #print \"vertices: \", pts_tmp\n",
    "            triang_tmp = PointConfiguration(pts_tmp).triangulate()\n",
    "            triang_tmp = [list(triang_tmp[i]) for i in range(len(triang_tmp))]\n",
    "            #print \"further triang: \", triang_tmp\n",
    "            check_triang(triang_tmp, pts_tmp, triang_new)\n",
    "    #print triang_new\n",
    "\n",
    "\n",
    "print 'Done.'"
   ]
  },
  {
   "cell_type": "code",
   "execution_count": 7,
   "metadata": {
    "collapsed": false
   },
   "outputs": [
    {
     "name": "stdout",
     "output_type": "stream",
     "text": [
      "Done.\n"
     ]
    }
   ],
   "source": [
    "#Helper functions to find the minimum of the volume function\n",
    "#(None of these work as well as Mathematica yet.)\n",
    "\n",
    "from scipy.optimize import fsolve\n",
    "from sympy import nsolve\n",
    "\n",
    "def min_function(Series, p):\n",
    "    try:\n",
    "        return (Series(b1=p[0], b2=p[1], b3=p[2]))^2\n",
    "    except:\n",
    "        return -1\n",
    "\n",
    "def min_constraint(Series, a, b, c):\n",
    "    if min_function(Series, [a,b,c])== -1:\n",
    "        print 'bad try: ', a,' ', b , ' ', c \n",
    "        return -100\n",
    "    try:\n",
    "        print 'val: ', Series(b1=a, b2=b, b3=c)\n",
    "        return 1-Series(b1=a, b2=b, b3=c)\n",
    "    except:\n",
    "        return -100\n",
    "\n",
    "def Find_Minimum(Series):\n",
    "    function = lambda p: min_function(Series, p)\n",
    "    \n",
    "    constraint = ({'type': 'ineq', 'fun': lambda p:  min_constraint(Series, p[0], p[1], p[2])})\n",
    "    #constraint = ({'type': 'ineq', 'fun': lambda p:  1-Series(b1=p[0], b2=p[1], b3=p[2])})\n",
    "    \n",
    "    solution = scipy.optimize.minimize(function, (0.7,0.2,0.3), constraints=constraint)\n",
    "    \n",
    "    return solution\n",
    "\n",
    "def eval_sol(Series, sol):\n",
    "    try:\n",
    "        return Series(b1 = sol[0].rhs(), b2 = sol[1].rhs(), b3 = sol[2].rhs())\n",
    "    except:\n",
    "        print 'no sol'\n",
    "        return CDF(I)\n",
    "\n",
    "def D_Minimum(Series):\n",
    "    d1 = diff(Series, b1)\n",
    "    d2 = diff(Series, b2)\n",
    "    d3 = diff(Series, b3)\n",
    "    \n",
    "    solution = solve([d1 == 0, d2 == 0, d3 == 0], b1, b2, b3)\n",
    "    #print 'solution: ', solution\n",
    "    \n",
    "    sol_len = len(solution)\n",
    "    \n",
    "    new_sol = []\n",
    "    \n",
    "    for j in range(sol_len):\n",
    "        if solution[j][0].rhs() in RR and solution[j][1].rhs() in RR and solution[j][2].rhs() in RR:\n",
    "            vol = eval_sol(Series, solution[j])\n",
    "            print vol\n",
    "            if vol not in RR:\n",
    "                continue\n",
    "            new_sol.append(vol)\n",
    "            #new_sol.append(solution[j])\n",
    "    #solution = new_sol\n",
    "    \n",
    "    print 'new_sol: ', new_sol\n",
    "    \n",
    "    vol_min_abs = min(new_sol)\n",
    "    \n",
    "    return vol_min_abs\n",
    "\n",
    "def func(p, *d):\n",
    "    f1, f2, f3 = d\n",
    "    return (f1(b1 = p[0], b2 = p[1], b3 = p[2]), f2(b1 = p[0], b2 = p[1], b3 = p[2]), f3(b1 = p[0], b2 = p[1], b3 = p[2]))\n",
    "\n",
    "def constraint(Series, sol):\n",
    "    vol = Series(b1 = sol[0], b2 = sol[1], b3 = sol[2])\n",
    "    if vol <= 1 and vol >= 0:\n",
    "        return 1, vol\n",
    "    \n",
    "    return 0, -1\n",
    "\n",
    "def NSolve(Series):\n",
    "    d1 = diff(Series, b1)\n",
    "    d2 = diff(Series, b2)\n",
    "    d3 = diff(Series, b3)\n",
    "    d = (d1, d2, d3)\n",
    "    const = 0\n",
    "    count = 0\n",
    "    \n",
    "    while const == 0:\n",
    "        d1_0 = np.random.uniform(low=-1, high=1)\n",
    "        d2_0 = np.random.uniform(low=-1, high=1)\n",
    "        d3_0 = np.random.uniform(low=-1, high=1)\n",
    "        print 'reset starting point: ', d1_0, d2_0, d3_0\n",
    "        try:\n",
    "            sol = fsolve(func, x0 = np.array([d1_0, d2_0, d3_0]), args = d)\n",
    "            print 'solution: ', sol\n",
    "        except:\n",
    "            continue\n",
    "        if abs(sol[0]) > 10 or abs(sol[1]) > 10 or abs(sol[2]) > 10:\n",
    "            continue\n",
    "        const, vol = constraint(Series, sol)\n",
    "        \n",
    "        count += 1\n",
    "        if count > 1000:\n",
    "            print 'Infinite loop. Force stop.'\n",
    "            return -1\n",
    "    \n",
    "    print 'Done.'\n",
    "    \n",
    "    return vol\n",
    "\n",
    "print 'Done.'"
   ]
  },
  {
   "cell_type": "code",
   "execution_count": null,
   "metadata": {
    "collapsed": false
   },
   "outputs": [
    {
     "name": "stderr",
     "output_type": "stream",
     "text": [
      "/home/carnd/Downloads/SageMath/local/lib/python2.7/site-packages/scipy/optimize/minpack.py:161: RuntimeWarning: The iteration is not making good progress, as measured by the \n",
      "  improvement from the last five Jacobian evaluations.\n",
      "  warnings.warn(msg, RuntimeWarning)\n",
      "/home/carnd/Downloads/SageMath/local/lib/python2.7/site-packages/scipy/optimize/minpack.py:161: RuntimeWarning: The iteration is not making good progress, as measured by the \n",
      "  improvement from the last ten iterations.\n",
      "  warnings.warn(msg, RuntimeWarning)\n",
      "/home/carnd/Downloads/SageMath/local/lib/python2.7/site-packages/scipy/optimize/minpack.py:161: RuntimeWarning: The number of calls to function has reached maxfev = 800.\n",
      "  warnings.warn(msg, RuntimeWarning)\n"
     ]
    }
   ],
   "source": [
    "#Generate hilbert series and volume\n",
    "\n",
    "def generate_hilbert_vol(output_hilb, output_vol):\n",
    "    input_path = 'output/polygon/poly_out_2.txt'\n",
    "    pts = input_data(input_path)\n",
    "    for i in range(len(pts)):\n",
    "        pts_new = pts[i]\n",
    "        points = PointConfiguration(pts_new)\n",
    "        \n",
    "        #Triangulate\n",
    "        triang = points.triangulate()\n",
    "        triang = [list(triang[i]) for i in range(len(triang))]\n",
    "        triang_new = []\n",
    "        check_triang(triang, pts_new, triang_new)\n",
    "        \n",
    "        #Calculate Hilbert Series (write to output)\n",
    "        Series = Hilb(triang_new, output_hilb)\n",
    "        \n",
    "        #Calculate Volume (write to output)\n",
    "        vol = NSolve(Series)\n",
    "        print i,'-th volume: ', vol\n",
    "        output_vol.write(\"%s\\n\" % vol)\n",
    "\n",
    "output_hilb_path = 'output/series/output_2.txt'\n",
    "output_vol_path = 'output/vol/output_cube_30.txt'\n",
    "output_hilb = open(output_hilb_path, 'w')\n",
    "output_vol = open(output_vol_path, 'w')\n",
    "generate_hilbert_vol(output_hilb, output_vol)\n",
    "output_hilb.close()\n",
    "output_vol.close()\n",
    "print 'Done.'"
   ]
  },
  {
   "cell_type": "code",
   "execution_count": 45,
   "metadata": {
    "collapsed": false
   },
   "outputs": [
    {
     "name": "stdout",
     "output_type": "stream",
     "text": [
      "[[0, 2, 3, 6], [1, 2, 3, 4], [2, 3, 4, 6]]\n"
     ]
    }
   ],
   "source": [
    "#Below are all test scripts (optional)\n",
    "\n",
    "p1 = [[4,0,0],[0,0,0],[0,1,0],[0,0,1]]\n",
    "#p1 = [[3,0,0],[1,0,0],[0,1,0],[0,0,1]]\n",
    "#p1 = [[2,0,0],[0,2,0],[0,0,2], [0,0,0]]\n",
    "#series = Triang(p1, 0)\n",
    "#print series\n",
    "\n",
    "pts = [[4, 0, 0],\n",
    " [0, 0, 0],\n",
    " [0, 1, 0],\n",
    " [0, 0, 1],\n",
    " [1, 0, 0],\n",
    " [2, 0, 0],\n",
    " [3, 0, 0]]\n",
    "\n",
    "points = PointConfiguration(pts)\n",
    "triang = points.triangulate()\n",
    "triang = list(triang)\n",
    "#triang_new = [list(triang[i]) for i in range(len(triang))]\n",
    "for i in range(len(triang)):\n",
    "    triang_new.append(list(triang[i]))\n",
    "triang = triang_new\n",
    "print triang\n"
   ]
  },
  {
   "cell_type": "code",
   "execution_count": 72,
   "metadata": {
    "collapsed": false
   },
   "outputs": [
    {
     "name": "stdout",
     "output_type": "stream",
     "text": [
      "check  0 :  [0, 2, 3, 6]\n",
      "add:  [[4, 0, 0], [0, 1, 0], [0, 0, 1], [3, 0, 0]]\n",
      "check  1 :  [1, 2, 3, 4]\n",
      "add:  [[0, 0, 0], [0, 1, 0], [0, 0, 1], [1, 0, 0]]\n",
      "check  2 :  [2, 3, 4, 6, 5]\n",
      "vertices:  [[0, 1, 0], [0, 0, 1], [1, 0, 0], [3, 0, 0], [2, 0, 0]]\n",
      "further triang:  [[0, 1, 2, 4], [0, 1, 3, 4]]\n",
      "check  0 :  [0, 1, 2, 4]\n",
      "add:  [[0, 1, 0], [0, 0, 1], [1, 0, 0], [2, 0, 0]]\n",
      "check  1 :  [0, 1, 3, 4]\n",
      "add:  [[0, 1, 0], [0, 0, 1], [3, 0, 0], [2, 0, 0]]\n",
      "result:  [[[4, 0, 0], [0, 1, 0], [0, 0, 1], [3, 0, 0]], [[0, 0, 0], [0, 1, 0], [0, 0, 1], [1, 0, 0]], [[0, 1, 0], [0, 0, 1], [1, 0, 0], [2, 0, 0]], [[0, 1, 0], [0, 0, 1], [3, 0, 0], [2, 0, 0]]]\n"
     ]
    }
   ],
   "source": [
    "triang_new = []\n",
    "check_triang(triang, pts, triang_new)\n",
    "\n",
    "print 'result: ', triang_new\n"
   ]
  },
  {
   "cell_type": "code",
   "execution_count": 10,
   "metadata": {
    "collapsed": false
   },
   "outputs": [
    {
     "name": "stdout",
     "output_type": "stream",
     "text": [
      "triangulate:  [[[3, 0, 0, 1], [0, 0, 1, 1], [1, 1, 0, 1], [2, 0, 0, 1]], [[0, 0, 0, 1], [0, 1, 0, 1], [0, 0, 1, 1], [1, 1, 0, 1]], [[0, 0, 0, 1], [0, 0, 1, 1], [1, 1, 0, 1], [1, 0, 0, 1]], [[0, 0, 1, 1], [1, 1, 0, 1], [2, 0, 0, 1], [1, 0, 0, 1]]]\n",
      "1/((b1 - b2)*b1*(b2 + b3 - 4)*b3) - 1/((b1 + 2*b2 + 3*b3 - 12)*(b1 + b2 + 2*b3 - 8)*b2*b3) - 1/((b1 + b2 + 2*b3 - 8)*(b1 + b3 - 4)*b2*b3) - 1/((b1 - b2)*(b1 + b3 - 4)*b2*b3)\n",
      "reset starting point:  0.858826821695 0.986029015939 0.0511599489556\n",
      "solution:  [ 3.32287566  1.17712434  1.        ]\n",
      "Done.\n",
      "0.2805\n",
      "triangulate:  [[[2, 0, 0, 1], [0, 1, 0, 1], [0, 0, 1, 1], [1, 1, 0, 1]], [[2, 0, 0, 1], [0, 1, 0, 1], [0, 0, 1, 1], [1, 0, 0, 1]], [[2, 0, 0, 1], [0, 0, 1, 1], [1, 1, 0, 1], [1, 0, 1, 1]], [[0, 0, 0, 1], [0, 1, 0, 1], [0, 0, 1, 1], [1, 0, 0, 1]]]\n",
      "1/((b1 + b2 + 2*b3 - 8)*(b1 + b2 + b3 - 8)*(b2 + b3 - 4)*b2) + 1/((b1 + 2*b2 + 2*b3 - 8)*(b1 + b2 + 2*b3 - 8)*(b2 + b3 - 4)*b3) - 1/((b1 + 2*b2 + 2*b3 - 8)*(b1 + b2 + b3 - 4)*b2*b3) - 1/((b1 + b2 + b3 - 4)*b1*b2*b3)\n",
      "reset starting point:  0.658249911276 0.394235774745 0.573855873177\n",
      "solution:  [ 2.78077641  1.21922359  1.21922359]\n",
      "Done.\n",
      "0.30984\n"
     ]
    }
   ],
   "source": [
    "#p1 = [[4,0,0],[0,0,0],[0,1,0],[0,0,1]]\n",
    "p1 = [[3,0,0],[0,0,0],[0,1,0],[0,0,1],[1,1,0]]\n",
    "p2 = [[2,0,0],[0,0,0],[0,1,0],[0,0,1],[1,1,0],[1,0,1]]\n",
    "\n",
    "p = [p1, p2]\n",
    "\n",
    "for i in range(len(p)):\n",
    "    series = Triang(p[i], 0)\n",
    "\n",
    "    print series\n",
    "\n",
    "    vol = NSolve(series)\n",
    "    vol = round(vol, 5)\n",
    "    print vol"
   ]
  },
  {
   "cell_type": "code",
   "execution_count": 9,
   "metadata": {
    "collapsed": false
   },
   "outputs": [
    {
     "name": "stdout",
     "output_type": "stream",
     "text": [
      "reset starting point:  -0.945155396429 0.0289554292775 0.868486906506\n",
      "solution:  [ -7.92395209e+37   1.50674164e+36   8.29731517e+37]\n",
      "reset starting point:  -0.24412925128 0.544078319647 0.905419694929\n",
      "solution:  [ -3.79295174e+39   3.12744189e+38   3.13947208e+38]\n",
      "reset starting point:  0.719115524516 0.623074859994 0.178613812636\n",
      "solution:  [ 3.99992642  1.00000341  1.00000136]\n",
      "Done.\n",
      "0.25\n"
     ]
    }
   ],
   "source": [
    "b1 = var('b1')\n",
    "b2 = var('b2')\n",
    "b3 = var('b3')\n",
    "series = -1/((b1 + 4*b2 + 4*b3 - 16)*(b1 + 3*b2 + 3*b3 - 12)*b2*b3) - 1/((b1 + 3*b2 + 3*b3 - 12)*(b1 + 2*b2 + 2*b3 - 8)*b2*b3) - 1/((b1 + 2*b2 + 2*b3 - 8)*(b1 + b2 + b3 - 4)*b2*b3) - 1/((b1 + b2 + b3 - 4)*b1*b2*b3)\n",
    "\n",
    "vol = NSolve(series)\n",
    "vol = round(vol, 5)\n",
    "print vol"
   ]
  },
  {
   "cell_type": "code",
   "execution_count": 28,
   "metadata": {
    "collapsed": false
   },
   "outputs": [
    {
     "name": "stdout",
     "output_type": "stream",
     "text": [
      "[ 4.00006586  0.99999455  0.99999452]\n",
      "0.2500000000509317\n",
      "[4, 1, 1]\n"
     ]
    },
    {
     "ename": "ValueError",
     "evalue": "power::eval(): division by zero",
     "output_type": "error",
     "traceback": [
      "\u001b[0;31m---------------------------------------------------------------------------\u001b[0m",
      "\u001b[0;31mValueError\u001b[0m                                Traceback (most recent call last)",
      "\u001b[0;32m<ipython-input-28-f69ddd01ec16>\u001b[0m in \u001b[0;36m<module>\u001b[0;34m()\u001b[0m\n\u001b[1;32m     23\u001b[0m \u001b[0;34m\u001b[0m\u001b[0m\n\u001b[1;32m     24\u001b[0m \u001b[0;32mprint\u001b[0m \u001b[0mvol\u001b[0m\u001b[0;34m\u001b[0m\u001b[0m\n\u001b[0;32m---> 25\u001b[0;31m \u001b[0;32mprint\u001b[0m \u001b[0mSeries\u001b[0m\u001b[0;34m(\u001b[0m\u001b[0mb1\u001b[0m \u001b[0;34m=\u001b[0m \u001b[0mRealNumber\u001b[0m\u001b[0;34m(\u001b[0m\u001b[0;34m'4.0'\u001b[0m\u001b[0;34m)\u001b[0m\u001b[0;34m,\u001b[0m \u001b[0mb2\u001b[0m \u001b[0;34m=\u001b[0m \u001b[0mRealNumber\u001b[0m\u001b[0;34m(\u001b[0m\u001b[0;34m'1.0'\u001b[0m\u001b[0;34m)\u001b[0m\u001b[0;34m,\u001b[0m \u001b[0mb3\u001b[0m \u001b[0;34m=\u001b[0m \u001b[0mRealNumber\u001b[0m\u001b[0;34m(\u001b[0m\u001b[0;34m'1.0'\u001b[0m\u001b[0;34m)\u001b[0m\u001b[0;34m)\u001b[0m\u001b[0;34m\u001b[0m\u001b[0m\n\u001b[0m\u001b[1;32m     26\u001b[0m \u001b[0;31m#print Series(b1 = vol[0][0].rhs(), b2 = vol[0][1].rhs(), b3 = vol[0][2].rhs())\u001b[0m\u001b[0;34m\u001b[0m\u001b[0;34m\u001b[0m\u001b[0m\n",
      "\u001b[0;32m/home/carnd/Downloads/SageMath/local/lib/python2.7/site-packages/sage/symbolic/expression.pyx\u001b[0m in \u001b[0;36msage.symbolic.expression.Expression.__call__ (build/cythonized/sage/symbolic/expression.cpp:33686)\u001b[0;34m()\u001b[0m\n\u001b[1;32m   5393\u001b[0m             \u001b[0mz\u001b[0m\u001b[0;34m^\u001b[0m\u001b[0;36m2\u001b[0m \u001b[0;34m+\u001b[0m \u001b[0mx\u001b[0m\u001b[0;34m^\u001b[0m\u001b[0my\u001b[0m\u001b[0;34m\u001b[0m\u001b[0m\n\u001b[1;32m   5394\u001b[0m         \"\"\"\n\u001b[0;32m-> 5395\u001b[0;31m         \u001b[0;32mreturn\u001b[0m \u001b[0mself\u001b[0m\u001b[0;34m.\u001b[0m\u001b[0m_parent\u001b[0m\u001b[0;34m.\u001b[0m\u001b[0m_call_element_\u001b[0m\u001b[0;34m(\u001b[0m\u001b[0mself\u001b[0m\u001b[0;34m,\u001b[0m \u001b[0;34m*\u001b[0m\u001b[0margs\u001b[0m\u001b[0;34m,\u001b[0m \u001b[0;34m**\u001b[0m\u001b[0mkwds\u001b[0m\u001b[0;34m)\u001b[0m\u001b[0;34m\u001b[0m\u001b[0m\n\u001b[0m\u001b[1;32m   5396\u001b[0m \u001b[0;34m\u001b[0m\u001b[0m\n\u001b[1;32m   5397\u001b[0m     \u001b[0;32mdef\u001b[0m \u001b[0mvariables\u001b[0m\u001b[0;34m(\u001b[0m\u001b[0mself\u001b[0m\u001b[0;34m)\u001b[0m\u001b[0;34m:\u001b[0m\u001b[0;34m\u001b[0m\u001b[0m\n",
      "\u001b[0;32m/home/carnd/Downloads/SageMath/local/lib/python2.7/site-packages/sage/symbolic/ring.pyx\u001b[0m in \u001b[0;36msage.symbolic.ring.SymbolicRing._call_element_ (build/cythonized/sage/symbolic/ring.cpp:11722)\u001b[0;34m()\u001b[0m\n\u001b[1;32m    977\u001b[0m                     \u001b[0;32mraise\u001b[0m \u001b[0mValueError\u001b[0m\u001b[0;34m(\u001b[0m\u001b[0;34m\"the number of arguments must be less than or equal to %s\"\u001b[0m\u001b[0;34m%\u001b[0m\u001b[0mlen\u001b[0m\u001b[0;34m(\u001b[0m\u001b[0mvars\u001b[0m\u001b[0;34m)\u001b[0m\u001b[0;34m)\u001b[0m\u001b[0;34m\u001b[0m\u001b[0m\n\u001b[1;32m    978\u001b[0m \u001b[0;34m\u001b[0m\u001b[0m\n\u001b[0;32m--> 979\u001b[0;31m         \u001b[0;32mreturn\u001b[0m \u001b[0m_the_element\u001b[0m\u001b[0;34m.\u001b[0m\u001b[0msubs\u001b[0m\u001b[0;34m(\u001b[0m\u001b[0md\u001b[0m\u001b[0;34m,\u001b[0m \u001b[0;34m**\u001b[0m\u001b[0mkwds\u001b[0m\u001b[0;34m)\u001b[0m\u001b[0;34m\u001b[0m\u001b[0m\n\u001b[0m\u001b[1;32m    980\u001b[0m \u001b[0;34m\u001b[0m\u001b[0m\n\u001b[1;32m    981\u001b[0m     \u001b[0;32mdef\u001b[0m \u001b[0msubring\u001b[0m\u001b[0;34m(\u001b[0m\u001b[0mself\u001b[0m\u001b[0;34m,\u001b[0m \u001b[0;34m*\u001b[0m\u001b[0margs\u001b[0m\u001b[0;34m,\u001b[0m \u001b[0;34m**\u001b[0m\u001b[0mkwds\u001b[0m\u001b[0;34m)\u001b[0m\u001b[0;34m:\u001b[0m\u001b[0;34m\u001b[0m\u001b[0m\n",
      "\u001b[0;32m/home/carnd/Downloads/SageMath/local/lib/python2.7/site-packages/sage/symbolic/expression.pyx\u001b[0m in \u001b[0;36msage.symbolic.expression.Expression.substitute (build/cythonized/sage/symbolic/expression.cpp:32616)\u001b[0;34m()\u001b[0m\n\u001b[1;32m   5245\u001b[0m         \u001b[0msig_on\u001b[0m\u001b[0;34m(\u001b[0m\u001b[0;34m)\u001b[0m\u001b[0;34m\u001b[0m\u001b[0m\n\u001b[1;32m   5246\u001b[0m         \u001b[0;32mtry\u001b[0m\u001b[0;34m:\u001b[0m\u001b[0;34m\u001b[0m\u001b[0m\n\u001b[0;32m-> 5247\u001b[0;31m             \u001b[0mres\u001b[0m \u001b[0;34m=\u001b[0m \u001b[0mself\u001b[0m\u001b[0;34m.\u001b[0m\u001b[0m_gobj\u001b[0m\u001b[0;34m.\u001b[0m\u001b[0msubs_map\u001b[0m\u001b[0;34m(\u001b[0m\u001b[0msmap\u001b[0m\u001b[0;34m,\u001b[0m \u001b[0;36m0\u001b[0m\u001b[0;34m)\u001b[0m\u001b[0;34m\u001b[0m\u001b[0m\n\u001b[0m\u001b[1;32m   5248\u001b[0m         \u001b[0;32mfinally\u001b[0m\u001b[0;34m:\u001b[0m\u001b[0;34m\u001b[0m\u001b[0m\n\u001b[1;32m   5249\u001b[0m             \u001b[0msig_off\u001b[0m\u001b[0;34m(\u001b[0m\u001b[0;34m)\u001b[0m\u001b[0;34m\u001b[0m\u001b[0m\n",
      "\u001b[0;31mValueError\u001b[0m: power::eval(): division by zero"
     ]
    }
   ],
   "source": [
    "b1 = var('b1')\n",
    "b2 = var('b2')\n",
    "b3 = var('b3')\n",
    "\n",
    "Series = -1/((b1 + 4*b2 + 4*b3 - 16)*(b1 + 3*b2 + 3*b3 - 12)*b2*b3) - 1/((b1 + 3*b2 + 3*b3 - 12)*(b1 + 2*b2 + 2*b3 - 8)*b2*b3) - 1/((b1 + 2*b2 + 2*b3 - 8)*(b1 + b2 + b3 - 4)*b2*b3) - 1/((b1 + b2 + b3 - 4)*b1*b2*b3)\n",
    "\n",
    "d1 = diff(Series, b1)\n",
    "d2 = diff(Series, b2)\n",
    "d3 = diff(Series, b3)\n",
    "d = (d1, d2, d3)\n",
    "\n",
    "#vol = fsolve(func, d, (0.1, 0.1, 0.1))\n",
    "vol = fsolve(func, x0 = np.array([0.1, 0.1, 0.1]), args = d)\n",
    "\n",
    "print vol\n",
    "print Series(b1 = vol[0], b2 = vol[1], b3 = vol[2])\n",
    "\n",
    "\n",
    "vol = solve([d1 == 0, d2 == 0, d3 == 0], b1, b2, b3)\n",
    "vol = [vol[0][0].rhs(), vol[0][1].rhs(), vol[0][2].rhs()]\n",
    "\n",
    "print vol\n",
    "print Series(b1 = 4.0, b2 = 1.0, b3 = 1.0)\n",
    "#print Series(b1 = vol[0][0].rhs(), b2 = vol[0][1].rhs(), b3 = vol[0][2].rhs())"
   ]
  },
  {
   "cell_type": "code",
   "execution_count": 36,
   "metadata": {
    "collapsed": false
   },
   "outputs": [
    {
     "name": "stdout",
     "output_type": "stream",
     "text": [
      "An equation (1, 1, 1) x - 2 == 0\n",
      "1\n",
      "An inequality (0, -1, -1) x + 2 >= 0\n",
      "0\n",
      "An inequality (0, 1, 0) x + 0 >= 0\n",
      "1\n",
      "An inequality (0, 0, 1) x + 0 >= 0\n",
      "1\n"
     ]
    }
   ],
   "source": [
    "from sage.plot.point import Point\n",
    "triangle = Polyhedron(vertices=[[2,0,0],[0,2,0],[0,0,2]])\n",
    "ineqs = triangle.inequality_generator()\n",
    "hrep = triangle.Hrepresentation()\n",
    "#print hrep\n",
    "\n",
    "test = vector(ZZ,[1,1,1])\n",
    "#test = [0,0,0]\n",
    "\n",
    "for ineq in hrep:\n",
    "    print ineq\n",
    "    print ineq.eval(test)"
   ]
  },
  {
   "cell_type": "code",
   "execution_count": 16,
   "metadata": {
    "collapsed": false
   },
   "outputs": [
    {
     "data": {
      "text/plain": [
       "-0.7208901274128736"
      ]
     },
     "execution_count": 16,
     "metadata": {},
     "output_type": "execute_result"
    }
   ],
   "source": [
    "import numpy as np\n",
    "np.random.uniform(low=-1, high=1)"
   ]
  }
 ],
 "metadata": {
  "anaconda-cloud": {},
  "kernelspec": {
   "display_name": "SageMath 8.2",
   "language": "",
   "name": "sagemath"
  },
  "language_info": {
   "codemirror_mode": {
    "name": "ipython",
    "version": 2
   },
   "file_extension": ".py",
   "mimetype": "text/x-python",
   "name": "python",
   "nbconvert_exporter": "python",
   "pygments_lexer": "ipython2",
   "version": "2.7.14"
  }
 },
 "nbformat": 4,
 "nbformat_minor": 1
}
