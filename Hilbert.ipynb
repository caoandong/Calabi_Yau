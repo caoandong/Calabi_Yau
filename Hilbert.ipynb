{
 "cells": [
  {
   "cell_type": "code",
   "execution_count": 7,
   "metadata": {
    "collapsed": false
   },
   "outputs": [
    {
     "name": "stdout",
     "output_type": "stream",
     "text": [
      "Okay\n"
     ]
    }
   ],
   "source": [
    "import math\n",
    "import numpy as np\n",
    "import scipy\n",
    "import scipy.optimize\n",
    "import matplotlib.pyplot as plt\n",
    "import csv\n",
    "#from scipy.optimize import minimize\n",
    "#import tensorflow as tf\n",
    "\n",
    "PointConfiguration.set_engine('internal')\n",
    "print 'Okay'"
   ]
  },
  {
   "cell_type": "code",
   "execution_count": 2,
   "metadata": {
    "collapsed": false
   },
   "outputs": [
    {
     "name": "stdout",
     "output_type": "stream",
     "text": [
      "[N(3, -1, -1), N(-1, 3, -1), N(-1, -1, 3), N(-1, -1, -1)]\n"
     ]
    }
   ],
   "source": [
    "# change the number from 1 to 18\n",
    "n = 1\n",
    "polytopes_list = [1, 5, 6, 7, 8, 25, 26, 27, 28, 29, 30, 31, 82, 83, 84, 85, 219, 220]\n",
    "\n",
    "P = ReflexivePolytope(3, polytopes_list[n-1]-1)\n",
    "#print P.vertices()\n",
    "dP = P.polar()\n",
    "print list(dP.vertices())\n",
    "#dP.plot3d()"
   ]
  },
  {
   "cell_type": "code",
   "execution_count": null,
   "metadata": {
    "collapsed": false
   },
   "outputs": [],
   "source": []
  },
  {
   "cell_type": "code",
   "execution_count": null,
   "metadata": {
    "collapsed": false
   },
   "outputs": [],
   "source": []
  },
  {
   "cell_type": "code",
   "execution_count": 5,
   "metadata": {
    "collapsed": false
   },
   "outputs": [
    {
     "name": "stdout",
     "output_type": "stream",
     "text": [
      "input points:  [[[0.0, 0.0, 0.0], [0.0, 1.0, 0.0], [1.0, 0.0, 0.0], [0.0, 0.0, 1.0]], [[1.0, 0.0, 0.0], [-1.0, 0.0, 0.0], [0.0, 1.0, 0.0], [0.0, -1.0, 1.0], [0.0, 0.0, 1.0], [0.0, 0.0, -1.0], [0.0, 0.0, 0.0]]]\n"
     ]
    }
   ],
   "source": [
    "input_path = 'input.csv'\n",
    "output_path = 'output.txt'\n",
    "with open(input_path) as f:\n",
    "    pts = []\n",
    "    pts_tmp = []\n",
    "    \n",
    "    for line in f:\n",
    "        pt = line.split(' ')\n",
    "        if line == '\\n' or pt == '\\n':\n",
    "            pts.append(pts_tmp)\n",
    "            pts_tmp = []\n",
    "            continue\n",
    "        for i in range(len(pt)):\n",
    "            pt[i] = float(pt[i].strip(','))\n",
    "        pts_tmp.append(pt)\n",
    "    if line != '\\n':\n",
    "        pts.append(pts_tmp)\n",
    "        \n",
    "print 'input points: ', pts"
   ]
  },
  {
   "cell_type": "code",
   "execution_count": 11,
   "metadata": {
    "collapsed": false,
    "scrolled": false
   },
   "outputs": [],
   "source": [
    "def exist(pts, latt):\n",
    "    latt = np.array(latt)\n",
    "    for i in range(pts.shape[0]):\n",
    "        if pts[i][0]==latt[0]:\n",
    "            if pts[i][1]==latt[1]:\n",
    "                if pts[i][2]==latt[2]:\n",
    "                    return 1\n",
    "    return 0\n",
    "\n",
    "#Compute cross product of three 4-vectors\n",
    "def four_cross(v1, v2, v3, v4):\n",
    "    v = np.zeros((4,))\n",
    "    '''\n",
    "    v1 = list(map(int, v1))\n",
    "    v2 = list(map(int, v2))\n",
    "    v3 = list(map(int, v3))\n",
    "    '''\n",
    "    counter = 0\n",
    "    #print 'input vector: ', v1, v2, v3\n",
    "    for i in range(4):\n",
    "        mat = [v1[np.arange(len(v1))!=i].tolist(), v2[np.arange(len(v2))!=i].tolist(), v3[np.arange(len(v3))!=i].tolist()]\n",
    "        mat = matrix(ZZ, mat)\n",
    "        #print 'matrix: '\n",
    "        #print mat\n",
    "        if counter == 1:\n",
    "            v[i] = -1*mat.det()\n",
    "            counter = 0\n",
    "            #print 'neg: ', v[i]\n",
    "            continue\n",
    "        elif counter == 0:\n",
    "            v[i] = mat.det()\n",
    "            counter = 1\n",
    "            #print 'pos: ', v[i]\n",
    "    #print v\n",
    "    mat = matrix(RR, [v1.tolist(), v2.tolist(), v3.tolist(), v4.tolist()])\n",
    "    \n",
    "    if mat.det() < 0:\n",
    "        #print 'original: ', v\n",
    "        v = -1*v\n",
    "        #print 'changed: ', v\n",
    "    #print 'vector: ', v\n",
    "    return v\n",
    "\n",
    "\n",
    "def Hilb(tri, p, output):\n",
    "    num_tri = len(tri)\n",
    "    len_tri = len(tri[0])\n",
    "    triang_list = np.zeros((num_tri, len_tri, 4))\n",
    "    #Convert each element of p into a 4-vector\n",
    "    #whose last entry equals to 1\n",
    "    for i in range(num_tri):\n",
    "        for j in range(len_tri):\n",
    "            triang_list[i][j] = np.append(np.array(p[tri[i][j]]) , 1)\n",
    "            \n",
    "    #print 'triang_list: '\n",
    "    #print triang_list\n",
    "    triang = np.array(triang_list)\n",
    "    power = np.zeros(shape = triang.shape)\n",
    "    Hilb = 0\n",
    "    t = var('t')\n",
    "    t1 = var('t1')\n",
    "    t2 = var('t2')\n",
    "    t3 = var('t3')\n",
    "    t4 = var('t4')\n",
    "    for tri in range(triang.shape[0]):\n",
    "        hilb = 1\n",
    "        t_prod = 1\n",
    "        for i in range(4):\n",
    "            #Multiplying by -1 is optional\n",
    "            power[tri][i] = -1*four_cross(triang[tri][i], triang[tri][np.remainder(i+1, 4)], triang[tri][np.remainder(i+2, 4)], triang[tri][np.remainder(i+3, 4)])\n",
    "            t_prod = t1^(int(power[tri][i][0]))*t2^(int(power[tri][i][1]))*t3^(int(power[tri][i][2]))*t4^int((power[tri][i][3]))\n",
    "            hilb *= (1-t_prod)^(-1)\n",
    "        #print 'Hilbert: ', hilb\n",
    "        Hilb += hilb\n",
    "    #print 'Hilb: ', Hilb()\n",
    "    #print Hilb(t1=t, t2=t, t3=t).series(t4, 3)\n",
    "    #output.write(\"p-q web: %s\\n\" % power)\n",
    "    print 'Hilb map: ', Hilb()\n",
    "    print \"p-q web: \", power \n",
    "    \n",
    "    \n",
    "    m = var('m')\n",
    "    b1 = var('b1')\n",
    "    b2 = var('b2')\n",
    "    b3 = var('b3')\n",
    "    b4 = var('b4')\n",
    "    Hilb *= m^4\n",
    "    \n",
    "    print 'Hilb: ', str(Hilb(t1 = (m*b1).exp(), t2 = (m*b2).exp(), t3 = (m*b3).exp(), t4 = (m*4).exp())).replace('e', 'E')\n",
    "    \n",
    "    \n",
    "    Series = Hilb(t1 = (m*b1).exp(), t2 = (m*b2).exp(), t3 = (m*b3).exp(), t4 = (m*4).exp()).series(m==0, 1)\n",
    "    Series = Series.truncate()\n",
    "    #Series = limit(Hilb(t1 = (m*b1).exp(), t2 = (m*b2).exp(), t3 = (m*b3).exp(), t4 = (m*4).exp()), m=0)\n",
    "    print 'Series: ', Series\n",
    "    \n",
    "    output.write(\"%s\\n\" % Series)\n",
    "    \n",
    "    '''\n",
    "    \n",
    "    function = lambda p: Series(b1=p[0], b2=p[1], b3=p[2])\n",
    "    \n",
    "    constraint = ({'type': 'ineq', 'fun': lambda p:  1-Series(b1=p[0], b2=p[1], b3=p[2])})\n",
    "    \n",
    "    solution = scipy.optimize.minimize(function, (0.01,0.01,0.01), constraints=constraint)\n",
    "    \n",
    "    #Series = lambda p: Series(b1=p[0], b2=p[1], b3=p[2])\n",
    "    \n",
    "    #solution = minimize(Series, [0.1,0,-0.1])\n",
    "    #solution = sage.numerical.optimize.find_local_maximum(Series, [b1,b2,b3], )\n",
    "    \n",
    "    \n",
    "    d1 = diff(Series, b1)\n",
    "    d2 = diff(Series, b2)\n",
    "    d3 = diff(Series, b3)\n",
    "    \n",
    "    solution = solve([d1 == 0, d2 == 0, d3 == 0], b1, b2, b3)\n",
    "    print 'solution: ', solution\n",
    "    \n",
    "    sol_len = len(solution)\n",
    "    \n",
    "    vol_min_abs = Series(b1 = solution[0][0].rhs(), b2 = solution[0][1].rhs(), b3 = solution[0][2].rhs())\n",
    "    \n",
    "    if sol_len > 1:\n",
    "        print 'sol_len: ', sol_len\n",
    "        for i in range(1, sol_len):\n",
    "            vol_min = Series(b1 = solution[i][0].rhs(), b2 = solution[i][1].rhs(), b3 = solution[i][2].rhs())\n",
    "            if vol_min < vol_min_abs and vol_min > 0:\n",
    "                vol_min_abs = vol_min\n",
    "                print 'better solution: ', vol_min_abs\n",
    "    \n",
    "    \n",
    "    return vol_min_abs\n",
    "    \n",
    "    return power\n",
    "    \n",
    "    return solution\n",
    "    '''\n",
    "    return Series\n",
    "    \n",
    "def Triang(p, output):\n",
    "    pts = np.array(p)\n",
    "    poly = Polyhedron(p)\n",
    "    pts_max = int(max(np.amax(pts, axis=0)))\n",
    "    pts_new = pts\n",
    "    for i in range(0, pts_max):\n",
    "        for j in range(0, pts_max):\n",
    "            for k in range(0, pts_max):\n",
    "                latt = [i,j,k]\n",
    "                if exist(pts, latt)==1:\n",
    "                    continue\n",
    "                if poly.contains(latt) == 1:\n",
    "                    pts_new = np.append(pts_new, np.array(latt).reshape((1,3)), axis = 0)  \n",
    "    #print 'pts_new: ', pts_new\n",
    "    pts_new = pts_new.tolist()\n",
    "    points = PointConfiguration(pts_new)\n",
    "    triang = points.triangulate()\n",
    "    triang = list(triang)\n",
    "    #print 'triangulate: ', triang\n",
    "    \n",
    "    #Calculate the Hilbert series\n",
    "    vol_min = Hilb(triang, pts_new, output)\n",
    "    #print 'vol_min: ', vol_min\n",
    "    #output.write(\"Power: %s\\n\" % vol_min)\n",
    "    #print 'vol_min: ', vol_min"
   ]
  },
  {
   "cell_type": "code",
   "execution_count": 5,
   "metadata": {
    "collapsed": false,
    "scrolled": true
   },
   "outputs": [
    {
     "name": "stdout",
     "output_type": "stream",
     "text": [
      "[[0.0, 0.0, 0.0], [0.0, 1.0, 0.0], [1.0, 0.0, 0.0], [0.0, 0.0, 1.0]]\n",
      "p-q web:  [[[-0. -0.  1. -0.]\n",
      "  [-1. -1. -1.  1.]\n",
      "  [-0.  1. -0. -0.]\n",
      "  [ 1.  0.  0.  0.]]]\n",
      "Hilb:  m^4/((E^(1.0*b1*m) - 1)*(E^(-1.0*b1*m - 1.0*b2*m - 1.0*b3*m + 4.0*m) - 1)*(E^(1.0*b2*m) - 1)*(E^(1.0*b3*m) - 1))\n",
      "Series:  1.0/(b1*(-1.0*b1 - 1.0*b2 - 1.0*b3 + 4.0)*b2*b3)\n",
      "power:  (1.0000001105189158, 0.9999992795025957, 0.9999995995398216)\n",
      "[[1.0, 0.0, 0.0], [-1.0, 0.0, 0.0], [0.0, 1.0, 0.0], [0.0, -1.0, 1.0], [0.0, 0.0, 1.0], [0.0, 0.0, -1.0], [0.0, 0.0, 0.0]]\n",
      "p-q web:  [[[ 1.  1.  2. -1.]\n",
      "  [ 1. -0. -0. -0.]\n",
      "  [-1.  0. -1.  1.]\n",
      "  [-1. -1. -1.  1.]]\n",
      "\n",
      " [[-1. -1. -2.  1.]\n",
      "  [ 1.  0.  0.  0.]\n",
      "  [-0.  1.  1. -0.]\n",
      "  [ 0.  0.  1.  0.]]\n",
      "\n",
      " [[-1. -1.  1.  1.]\n",
      "  [ 1. -0. -0. -0.]\n",
      "  [ 0.  1.  0.  0.]\n",
      "  [-0. -0. -1. -0.]]\n",
      "\n",
      " [[-1.  2.  1.  1.]\n",
      "  [ 1.  0.  0.  0.]\n",
      "  [-0. -1. -0. -0.]\n",
      "  [ 0. -1. -1.  0.]]\n",
      "\n",
      " [[-1.  1.  2. -1.]\n",
      "  [-1.  0.  0.  0.]\n",
      "  [ 1. -0. -1.  1.]\n",
      "  [ 1. -1. -1.  1.]]\n",
      "\n",
      " [[ 1. -1. -2.  1.]\n",
      "  [-1. -0. -0. -0.]\n",
      "  [ 0.  1.  1.  0.]\n",
      "  [-0. -0.  1. -0.]]\n",
      "\n",
      " [[ 1. -1.  1.  1.]\n",
      "  [-1.  0.  0.  0.]\n",
      "  [-0.  1. -0. -0.]\n",
      "  [ 0.  0. -1.  0.]]\n",
      "\n",
      " [[ 1.  2.  1.  1.]\n",
      "  [-1. -0. -0. -0.]\n",
      "  [ 0. -1.  0.  0.]\n",
      "  [-0. -1. -1. -0.]]]\n",
      "Hilb:  m^4*(1/((E^(1.0*b1*m + 1.0*b2*m + 2.0*b3*m - 4.0*m) - 1)*(E^(1.0*b1*m) - 1)*(E^(-1.0*b1*m - 1.0*b2*m - 1.0*b3*m + 4.0*m) - 1)*(E^(-1.0*b1*m - 1.0*b3*m + 4.0*m) - 1)) + 1/((E^(1.0*b1*m - 1.0*b2*m - 1.0*b3*m + 4.0*m) - 1)*(E^(1.0*b1*m - 1.0*b3*m + 4.0*m) - 1)*(E^(-1.0*b1*m + 1.0*b2*m + 2.0*b3*m - 4.0*m) - 1)*(E^(-1.0*b1*m) - 1)) + 1/((E^(1.0*b1*m) - 1)*(E^(-1.0*b1*m + 2.0*b2*m + 1.0*b3*m + 4.0*m) - 1)*(E^(-1.0*b2*m - 1.0*b3*m) - 1)*(E^(-1.0*b2*m) - 1)) + 1/((E^(1.0*b1*m + 2.0*b2*m + 1.0*b3*m + 4.0*m) - 1)*(E^(-1.0*b1*m) - 1)*(E^(-1.0*b2*m - 1.0*b3*m) - 1)*(E^(-1.0*b2*m) - 1)) + 1/((E^(1.0*b1*m) - 1)*(E^(-1.0*b1*m - 1.0*b2*m - 2.0*b3*m + 4.0*m) - 1)*(E^(1.0*b2*m + 1.0*b3*m) - 1)*(E^(1.0*b3*m) - 1)) + 1/((E^(1.0*b1*m - 1.0*b2*m - 2.0*b3*m + 4.0*m) - 1)*(E^(-1.0*b1*m) - 1)*(E^(1.0*b2*m + 1.0*b3*m) - 1)*(E^(1.0*b3*m) - 1)) + 1/((E^(1.0*b1*m) - 1)*(E^(-1.0*b1*m - 1.0*b2*m + 1.0*b3*m + 4.0*m) - 1)*(E^(1.0*b2*m) - 1)*(E^(-1.0*b3*m) - 1)) + 1/((E^(1.0*b1*m - 1.0*b2*m + 1.0*b3*m + 4.0*m) - 1)*(E^(-1.0*b1*m) - 1)*(E^(1.0*b2*m) - 1)*(E^(-1.0*b3*m) - 1)))\n",
      "Series:  -1.0/((1.0*b1 - 1.0*b2 - 1.0*b3 + 4.0)*(1.0*b1 - 1.0*b3 + 4.0)*b1*(-1.0*b1 + 1.0*b2 + 2.0*b3 - 4.0)) + 1.0/((1.0*b1 + 1.0*b2 + 2.0*b3 - 4.0)*b1*(-1.0*b1 - 1.0*b2 - 1.0*b3 + 4.0)*(-1.0*b1 - 1.0*b3 + 4.0)) + 1.0/((1.0*b1 + 2.0*b2 + 1.0*b3 + 4.0)*b1*b2*(-1.0*b2 - 1.0*b3)) - 1.0/(b1*(-1.0*b1 + 2.0*b2 + 1.0*b3 + 4.0)*b2*(-1.0*b2 - 1.0*b3)) - 1.0/((1.0*b1 - 1.0*b2 - 2.0*b3 + 4.0)*b1*(1.0*b2 + 1.0*b3)*b3) + 1.0/(b1*(-1.0*b1 - 1.0*b2 - 2.0*b3 + 4.0)*(1.0*b2 + 1.0*b3)*b3) + 1.0/((1.0*b1 - 1.0*b2 + 1.0*b3 + 4.0)*b1*b2*b3) - 1.0/(b1*(-1.0*b1 - 1.0*b2 + 1.0*b3 + 4.0)*b2*b3)\n",
      "power:  (0.00016775364433380016, 0.0001787394939925316, 0.4212282079253647)\n"
     ]
    }
   ],
   "source": [
    "output = open(output_path, 'w')\n",
    "for idx in range(len(pts)):\n",
    "    output.write(\"polytope %s\\n\" % idx)\n",
    "    print pts[idx]\n",
    "    Triang(pts[idx], output)\n",
    "    output.write(\"\\n\")\n",
    "#output.close()"
   ]
  },
  {
   "cell_type": "code",
   "execution_count": 5,
   "metadata": {
    "collapsed": false
   },
   "outputs": [
    {
     "ename": "NameError",
     "evalue": "name 'tf' is not defined",
     "output_type": "error",
     "traceback": [
      "\u001b[0;31m---------------------------------------------------------------------------\u001b[0m",
      "\u001b[0;31mNameError\u001b[0m                                 Traceback (most recent call last)",
      "\u001b[0;32m<ipython-input-5-c049a097aae6>\u001b[0m in \u001b[0;36m<module>\u001b[0;34m()\u001b[0m\n\u001b[0;32m----> 1\u001b[0;31m \u001b[0mvar\u001b[0m \u001b[0;34m=\u001b[0m \u001b[0mtf\u001b[0m\u001b[0;34m.\u001b[0m\u001b[0mVariable\u001b[0m\u001b[0;34m(\u001b[0m\u001b[0mtf\u001b[0m\u001b[0;34m.\u001b[0m\u001b[0mrandom_uniform\u001b[0m\u001b[0;34m(\u001b[0m\u001b[0;34m[\u001b[0m\u001b[0mInteger\u001b[0m\u001b[0;34m(\u001b[0m\u001b[0;36m3\u001b[0m\u001b[0;34m)\u001b[0m\u001b[0;34m]\u001b[0m\u001b[0;34m,\u001b[0m \u001b[0mInteger\u001b[0m\u001b[0;34m(\u001b[0m\u001b[0;36m0\u001b[0m\u001b[0;34m)\u001b[0m\u001b[0;34m,\u001b[0m \u001b[0mInteger\u001b[0m\u001b[0;34m(\u001b[0m\u001b[0;36m10\u001b[0m\u001b[0;34m)\u001b[0m\u001b[0;34m,\u001b[0m \u001b[0mdtype\u001b[0m\u001b[0;34m=\u001b[0m\u001b[0mtf\u001b[0m\u001b[0;34m.\u001b[0m\u001b[0mfloat32\u001b[0m\u001b[0;34m,\u001b[0m \u001b[0mseed\u001b[0m\u001b[0;34m=\u001b[0m\u001b[0mInteger\u001b[0m\u001b[0;34m(\u001b[0m\u001b[0;36m0\u001b[0m\u001b[0;34m)\u001b[0m\u001b[0;34m)\u001b[0m\u001b[0;34m)\u001b[0m\u001b[0;34m\u001b[0m\u001b[0m\n\u001b[0m\u001b[1;32m      2\u001b[0m \u001b[0;34m\u001b[0m\u001b[0m\n\u001b[1;32m      3\u001b[0m \u001b[0mloss\u001b[0m \u001b[0;34m=\u001b[0m \u001b[0mSeries\u001b[0m\u001b[0;34m(\u001b[0m\u001b[0mb1\u001b[0m \u001b[0;34m=\u001b[0m \u001b[0mvar\u001b[0m\u001b[0;34m[\u001b[0m\u001b[0mInteger\u001b[0m\u001b[0;34m(\u001b[0m\u001b[0;36m0\u001b[0m\u001b[0;34m)\u001b[0m\u001b[0;34m]\u001b[0m\u001b[0;34m,\u001b[0m \u001b[0mb2\u001b[0m \u001b[0;34m=\u001b[0m \u001b[0mvar\u001b[0m\u001b[0;34m[\u001b[0m\u001b[0mInteger\u001b[0m\u001b[0;34m(\u001b[0m\u001b[0;36m1\u001b[0m\u001b[0;34m)\u001b[0m\u001b[0;34m]\u001b[0m\u001b[0;34m,\u001b[0m \u001b[0mb3\u001b[0m \u001b[0;34m=\u001b[0m \u001b[0mvar\u001b[0m\u001b[0;34m[\u001b[0m\u001b[0mInteger\u001b[0m\u001b[0;34m(\u001b[0m\u001b[0;36m2\u001b[0m\u001b[0;34m)\u001b[0m\u001b[0;34m]\u001b[0m\u001b[0;34m)\u001b[0m\u001b[0;34m\u001b[0m\u001b[0m\n",
      "\u001b[0;31mNameError\u001b[0m: name 'tf' is not defined"
     ]
    }
   ],
   "source": [
    "var = tf.Variable(tf.random_uniform([3], 0, 10, dtype=tf.float32, seed=0))\n",
    "\n",
    "loss = Series(b1 = var[0], b2 = var[1], b3 = var[2])"
   ]
  },
  {
   "cell_type": "code",
   "execution_count": 12,
   "metadata": {
    "collapsed": false
   },
   "outputs": [
    {
     "name": "stdout",
     "output_type": "stream",
     "text": [
      "Hilb map:  1/((t2*t3^2/(t1*t4) - 1)*(t1*t4/t3 - 1)*(t1*t4/(t2*t3) - 1)*(1/t1 - 1)) + 1/((t1 - 1)*(t2 - 1)*(t3*t4/(t1*t2) - 1)*(1/t3 - 1)) + 1/((t1*t3*t4/t2 - 1)*(t2 - 1)*(1/t1 - 1)*(1/t3 - 1)) + 1/((t2*t3 - 1)*(t3 - 1)*(1/t1 - 1)*(t1*t4/(t2*t3^2) - 1)) + 1/((t2^2*t3*t4/t1 - 1)*(t1 - 1)*(1/t2 - 1)*(1/(t2*t3) - 1)) + 1/((t1*t2^2*t3*t4 - 1)*(1/t1 - 1)*(1/t2 - 1)*(1/(t2*t3) - 1)) + 1/((t1*t2*t3^2/t4 - 1)*(t1 - 1)*(t4/(t1*t3) - 1)*(t4/(t1*t2*t3) - 1)) + 1/((t2*t3 - 1)*(t1 - 1)*(t3 - 1)*(t4/(t1*t2*t3^2) - 1))\n",
      "p-q web:  [[[ 1.  1.  2. -1.]\n",
      "  [ 1. -0. -0. -0.]\n",
      "  [-1.  0. -1.  1.]\n",
      "  [-1. -1. -1.  1.]]\n",
      "\n",
      " [[-1. -1. -2.  1.]\n",
      "  [ 1.  0.  0.  0.]\n",
      "  [-0.  1.  1. -0.]\n",
      "  [ 0.  0.  1.  0.]]\n",
      "\n",
      " [[-1. -1.  1.  1.]\n",
      "  [ 1. -0. -0. -0.]\n",
      "  [ 0.  1.  0.  0.]\n",
      "  [-0. -0. -1. -0.]]\n",
      "\n",
      " [[-1.  2.  1.  1.]\n",
      "  [ 1.  0.  0.  0.]\n",
      "  [-0. -1. -0. -0.]\n",
      "  [ 0. -1. -1.  0.]]\n",
      "\n",
      " [[-1.  1.  2. -1.]\n",
      "  [-1.  0.  0.  0.]\n",
      "  [ 1. -0. -1.  1.]\n",
      "  [ 1. -1. -1.  1.]]\n",
      "\n",
      " [[ 1. -1. -2.  1.]\n",
      "  [-1. -0. -0. -0.]\n",
      "  [ 0.  1.  1.  0.]\n",
      "  [-0. -0.  1. -0.]]\n",
      "\n",
      " [[ 1. -1.  1.  1.]\n",
      "  [-1.  0.  0.  0.]\n",
      "  [-0.  1. -0. -0.]\n",
      "  [ 0.  0. -1.  0.]]\n",
      "\n",
      " [[ 1.  2.  1.  1.]\n",
      "  [-1. -0. -0. -0.]\n",
      "  [ 0. -1.  0.  0.]\n",
      "  [-0. -1. -1. -0.]]]\n",
      "Hilb:  m^4*(1/((E^(b1*m + b2*m + 2*b3*m - 4*m) - 1)*(E^(b1*m) - 1)*(E^(-b1*m - b2*m - b3*m + 4*m) - 1)*(E^(-b1*m - b3*m + 4*m) - 1)) + 1/((E^(b1*m - b2*m - b3*m + 4*m) - 1)*(E^(b1*m - b3*m + 4*m) - 1)*(E^(-b1*m + b2*m + 2*b3*m - 4*m) - 1)*(E^(-b1*m) - 1)) + 1/((E^(b1*m) - 1)*(E^(-b1*m + 2*b2*m + b3*m + 4*m) - 1)*(E^(-b2*m - b3*m) - 1)*(E^(-b2*m) - 1)) + 1/((E^(b1*m + 2*b2*m + b3*m + 4*m) - 1)*(E^(-b1*m) - 1)*(E^(-b2*m - b3*m) - 1)*(E^(-b2*m) - 1)) + 1/((E^(b1*m) - 1)*(E^(-b1*m - b2*m - 2*b3*m + 4*m) - 1)*(E^(b2*m + b3*m) - 1)*(E^(b3*m) - 1)) + 1/((E^(b1*m - b2*m - 2*b3*m + 4*m) - 1)*(E^(-b1*m) - 1)*(E^(b2*m + b3*m) - 1)*(E^(b3*m) - 1)) + 1/((E^(b1*m) - 1)*(E^(-b1*m - b2*m + b3*m + 4*m) - 1)*(E^(b2*m) - 1)*(E^(-b3*m) - 1)) + 1/((E^(b1*m - b2*m + b3*m + 4*m) - 1)*(E^(-b1*m) - 1)*(E^(b2*m) - 1)*(E^(-b3*m) - 1)))\n",
      "Series:  1/((b1 + b2 + 2*b3 - 4)*(b1 + b2 + b3 - 4)*(b1 + b3 - 4)*b1) + 1/((b1 - b2 - b3 + 4)*(b1 - b2 - 2*b3 + 4)*(b1 - b3 + 4)*b1) - 1/((b1 + 2*b2 + b3 + 4)*b1*(b2 + b3)*b2) - 1/((b1 - 2*b2 - b3 - 4)*b1*(b2 + b3)*b2) - 1/((b1 + b2 + 2*b3 - 4)*b1*(b2 + b3)*b3) - 1/((b1 - b2 - 2*b3 + 4)*b1*(b2 + b3)*b3) + 1/((b1 + b2 - b3 - 4)*b1*b2*b3) + 1/((b1 - b2 + b3 + 4)*b1*b2*b3)\n"
     ]
    }
   ],
   "source": [
    "output = open(output_path, 'w')\n",
    "#p = [[1,0,0],[0,1,0],[0,0,1],[-1,-1,-1]]\n",
    "p = [[1,0,0],[-1,0,0],[0,1,0],[0,-1,1],[0,0,1],[0,0,-1],[0,0,0]]\n",
    "Triang(p, output)\n",
    "output.close()"
   ]
  }
 ],
 "metadata": {
  "anaconda-cloud": {},
  "kernelspec": {
   "display_name": "SageMath 8.2",
   "language": "",
   "name": "sagemath"
  },
  "language_info": {
   "codemirror_mode": {
    "name": "ipython",
    "version": 2
   },
   "file_extension": ".py",
   "mimetype": "text/x-python",
   "name": "python",
   "nbconvert_exporter": "python",
   "pygments_lexer": "ipython2",
   "version": "2.7.14"
  }
 },
 "nbformat": 4,
 "nbformat_minor": 1
}
